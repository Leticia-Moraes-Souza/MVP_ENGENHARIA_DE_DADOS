{
 "cells": [
  {
   "cell_type": "markdown",
   "metadata": {
    "application/vnd.databricks.v1+cell": {
     "cellMetadata": {
      "byteLimit": 2048000,
      "rowLimit": 10000
     },
     "inputWidgets": {},
     "nuid": "d1a4d2df-0fde-4824-a487-8899a985cafc",
     "showTitle": false,
     "tableResultSettingsMap": {},
     "title": ""
    }
   },
   "source": [
    "## MVP Engenharia de dados\n",
    "Projeto desenvolvido para a disciplina de Engenharia de dados. Para desenvolvimento do projeto, será usada base de dados com informações sobre tempo de tela entre crianças e adolescentes obtida no repositório kaggle: https://www.kaggle.com/datasets/ak0212/average-daily-screen-time-for-children\n",
    "\n",
    "Objetivos: com o sucesso da série \"Adolescente\" lançada recentemente, observou-se aumento de discussões sobre a exposição de crianças e adolescentes a conteúdo online. Assim, as analises desse projeto visão entender qual o tempo médio de exposição a telas entre diferentes faixas etárias, qual o gênero com maior tempo de exposição a tela, qual o tipo de acesso mais frequente entre os usuários.\n",
    "\n",
    "\n",
    "Para alcançar os objetivos, serão usados os recursos da Azure, Databricks e Power Bi, para carregar, tratar e visualizar os dados. Também serão realizadas analises iniciais para avaliação da qualidade das informações. Por fim, será realizado estudo para alcançar os objetivos apresentados inicialmente.\n"
   ]
  },
  {
   "cell_type": "markdown",
   "metadata": {
    "application/vnd.databricks.v1+cell": {
     "cellMetadata": {
      "byteLimit": 2048000,
      "rowLimit": 10000
     },
     "inputWidgets": {},
     "nuid": "ade25031-c6da-49df-8bed-d5a23c94ba1d",
     "showTitle": false,
     "tableResultSettingsMap": {},
     "title": ""
    }
   },
   "source": [
    "# 1. Recurso de cloud: Azure\n",
    "\n",
    "  Para realizar o processo de armazenamento em nuvem, foi escolhida a ferramenta Azure, usada na versão de teste gratuito. A escolha foi feita para simular um ambiente de trabalho com uso de múltiplo recursos operacionais e para ampliar o conhecimento sobre novas ferramentas.\n",
    "\n",
    "  O ambiente foi configurado para ter o grupo de recursos contendo conta de armazenamento, Data Factory e conexão com serviço do Azure Databricks.\n",
    "\n",
    "![ambiente_azure_tela_inicial.png](./ambiente_azure_tela_inicial.png \"ambiente_azure_tela_inicial.png\")\n",
    "\n",
    "  Na ferramenta da Azure, foi criado o container \"mvp\" e a pasta \"raw\" que serão usadas para armazenamento de arquivo em nuvem.\n",
    " ![container_azure.png](./container_azure.png \"container_azure.png\")\n",
    "\n",
    "  Para simular um ambiente de produção, foi escolhido baixar o arquivo disponibilizado no site https://www.kaggle.com/datasets/ak0212/average-daily-screen-time-for-children, e carregar no github para que fosse possível criar um conjunto de dados no Azure Data Factory que realiza a leitura de arquivos csv com fonte Http.\n",
    "  ![github.png](./github.png \"github.png\")\n",
    "  No ambiente do data factory, foram criados dois serviços vinculados, para leitura de arquivo com fonte http e para armazenamento em blob.\n",
    "  ![serviços_vinculados.png](./serviços_vinculados.png \"serviços_vinculados.png\")\n",
    "  Para construção do pipeline, foram criados dois conjuntos de dados. O conjunto \"get_data\" para ler o arquivo no github: ![get_data.png](./get_data.png \"get_data.png\")\n",
    "\n",
    "  E o conjunto \"upload_data\", para armazenamento em blob:\n",
    "  ![load_data.png](./load_data.png \"load_data.png\")\n",
    "\n",
    " Assim, foi possível estabelecer o pipeline que faria a carga do csv, usando os parâmetros do conjunto \"get_data\" como origem e os parâmetros do \"upload_data\" como coleta. Ao depurar o pipeline, o arquivo csv foi corretamente carregado na conta de armazenamento:\n",
    " ![pipeline.png](./pipeline.png \"pipeline.png\")\n",
    "\n",
    " ![screen_time_container.png](./screen_time_container.png \"screen_time_container.png\")\n",
    "  \n",
    "  Uma vez que o arquivo foi armazenado em nuvem, foi criado notebook no Databricks para dar continuidade ao projeto.\n"
   ]
  },
  {
   "cell_type": "markdown",
   "metadata": {
    "application/vnd.databricks.v1+cell": {
     "cellMetadata": {
      "byteLimit": 2048000,
      "rowLimit": 10000
     },
     "inputWidgets": {},
     "nuid": "2be968d8-5dec-4a86-a8cb-4c1f27c0efcd",
     "showTitle": false,
     "tableResultSettingsMap": {},
     "title": ""
    }
   },
   "source": [
    "# 2. Lendo arquivos da nuvem\n",
    "Conectando Databricks com armazenamento Azure e observando se o dataframe criado corretamente."
   ]
  },
  {
   "cell_type": "code",
   "execution_count": 0,
   "metadata": {
    "application/vnd.databricks.v1+cell": {
     "cellMetadata": {
      "byteLimit": 2048000,
      "rowLimit": 10000
     },
     "inputWidgets": {},
     "nuid": "7a0bbd38-bb66-4f68-bd59-c417b1989a0a",
     "showTitle": false,
     "tableResultSettingsMap": {},
     "title": ""
    }
   },
   "outputs": [
    {
     "output_type": "display_data",
     "data": {
      "text/html": [
       "<style scoped>\n",
       "  .table-result-container {\n",
       "    max-height: 300px;\n",
       "    overflow: auto;\n",
       "  }\n",
       "  table, th, td {\n",
       "    border: 1px solid black;\n",
       "    border-collapse: collapse;\n",
       "  }\n",
       "  th, td {\n",
       "    padding: 5px;\n",
       "  }\n",
       "  th {\n",
       "    text-align: left;\n",
       "  }\n",
       "</style><div class='table-result-container'><table class='table-result'><thead style='background-color: white'><tr><th>Age</th><th>Gender</th><th>Screen Time Type</th><th>Day Type</th><th>Average Screen Time (hours)</th><th>Sample Size</th></tr></thead><tbody><tr><td>5</td><td>Male</td><td>Educational</td><td>Weekday</td><td>0.44</td><td>500</td></tr><tr><td>5</td><td>Male</td><td>Recreational</td><td>Weekday</td><td>1.11</td><td>500</td></tr><tr><td>5</td><td>Male</td><td>Total</td><td>Weekday</td><td>1.55</td><td>500</td></tr><tr><td>5</td><td>Male</td><td>Educational</td><td>Weekend</td><td>0.5</td><td>500</td></tr><tr><td>5</td><td>Male</td><td>Recreational</td><td>Weekend</td><td>1.44</td><td>500</td></tr></tbody></table></div>"
      ]
     },
     "metadata": {
      "application/vnd.databricks.v1+output": {
       "addedWidgets": {},
       "aggData": [],
       "aggError": "",
       "aggOverflow": false,
       "aggSchema": [],
       "aggSeriesLimitReached": false,
       "aggType": "",
       "arguments": {},
       "columnCustomDisplayInfos": {},
       "data": [
        [
         "5",
         "Male",
         "Educational",
         "Weekday",
         "0.44",
         "500"
        ],
        [
         "5",
         "Male",
         "Recreational",
         "Weekday",
         "1.11",
         "500"
        ],
        [
         "5",
         "Male",
         "Total",
         "Weekday",
         "1.55",
         "500"
        ],
        [
         "5",
         "Male",
         "Educational",
         "Weekend",
         "0.5",
         "500"
        ],
        [
         "5",
         "Male",
         "Recreational",
         "Weekend",
         "1.44",
         "500"
        ]
       ],
       "datasetInfos": [],
       "dbfsResultPath": null,
       "isJsonSchema": true,
       "metadata": {},
       "overflow": false,
       "plotOptions": {
        "customPlotOptions": {},
        "displayType": "table",
        "pivotAggregation": null,
        "pivotColumns": null,
        "xColumns": null,
        "yColumns": null
       },
       "removedWidgets": [],
       "schema": [
        {
         "metadata": "{}",
         "name": "Age",
         "type": "\"string\""
        },
        {
         "metadata": "{}",
         "name": "Gender",
         "type": "\"string\""
        },
        {
         "metadata": "{}",
         "name": "Screen Time Type",
         "type": "\"string\""
        },
        {
         "metadata": "{}",
         "name": "Day Type",
         "type": "\"string\""
        },
        {
         "metadata": "{}",
         "name": "Average Screen Time (hours)",
         "type": "\"string\""
        },
        {
         "metadata": "{}",
         "name": "Sample Size",
         "type": "\"string\""
        }
       ],
       "type": "table"
      }
     },
     "output_type": "display_data"
    }
   ],
   "source": [
    "\n",
    "# Configurar a chave de acesso da conta de armazenamento\n",
    "spark.conf.set(\"fs.azure.account.key.mvpengdado.dfs.core.windows.net\", \"UiP8dafkrcGZd3/THhfKIVRv7WMEYn1NFulhXEh7pvZK+EAHO/uDMsy2xurLyHQLB17fF8s8M89M+ASt1x2Efg==\")\n",
    "\n",
    "# Definir o caminho do arquivo CSV\n",
    "file_path = \"abfss://mvp@mvpengdado.dfs.core.windows.net/raw/Leticia-Moraes-Souza/MVP_ENGENHARIA_DE_DADOS/refs/heads/main/screen_time.csv\"\n",
    "\n",
    "# Carregar o arquivo CSV no DataFrame\n",
    "df = spark.read.option(\"header\", \"true\").csv(file_path)\n",
    "\n",
    "# Mostrar primeiras linhas do data frame\n",
    "display(df.limit(5))\n"
   ]
  },
  {
   "cell_type": "markdown",
   "metadata": {
    "application/vnd.databricks.v1+cell": {
     "cellMetadata": {
      "byteLimit": 2048000,
      "rowLimit": 10000
     },
     "inputWidgets": {},
     "nuid": "574c5fac-bbfa-446e-b250-20e87088c644",
     "showTitle": false,
     "tableResultSettingsMap": {},
     "title": ""
    }
   },
   "source": [
    "O dataframe foi criado corretamente, como mostrado pela exibição das 5 primeiras linhas."
   ]
  },
  {
   "cell_type": "markdown",
   "metadata": {
    "application/vnd.databricks.v1+cell": {
     "cellMetadata": {
      "byteLimit": 2048000,
      "rowLimit": 10000
     },
     "inputWidgets": {},
     "nuid": "e80b9b40-801d-476a-93bf-05fac278c064",
     "showTitle": false,
     "tableResultSettingsMap": {},
     "title": ""
    }
   },
   "source": [
    "# 3. Analises dos dados carregados"
   ]
  },
  {
   "cell_type": "markdown",
   "metadata": {
    "application/vnd.databricks.v1+cell": {
     "cellMetadata": {
      "byteLimit": 2048000,
      "rowLimit": 10000
     },
     "inputWidgets": {},
     "nuid": "10866822-f0fd-48e8-b6ec-6c824d8d0e94",
     "showTitle": false,
     "tableResultSettingsMap": {},
     "title": ""
    }
   },
   "source": [
    "Inicialmente, será analisado o formato dos dados de cada coluna e algumas analises descritivas básicas."
   ]
  },
  {
   "cell_type": "code",
   "execution_count": 0,
   "metadata": {
    "application/vnd.databricks.v1+cell": {
     "cellMetadata": {
      "byteLimit": 2048000,
      "rowLimit": 10000
     },
     "inputWidgets": {},
     "nuid": "45fa89f5-abc7-41a2-a7af-ca8fdd2f393c",
     "showTitle": false,
     "tableResultSettingsMap": {},
     "title": ""
    }
   },
   "outputs": [],
   "source": [
    "# Importando funções do pyspark\n",
    "import pyspark.sql.functions as F"
   ]
  },
  {
   "cell_type": "code",
   "execution_count": 0,
   "metadata": {
    "application/vnd.databricks.v1+cell": {
     "cellMetadata": {
      "byteLimit": 2048000,
      "rowLimit": 10000
     },
     "inputWidgets": {},
     "nuid": "9ec191a1-4a8a-465f-9a94-9f0802216f0d",
     "showTitle": false,
     "tableResultSettingsMap": {},
     "title": ""
    }
   },
   "outputs": [
    {
     "output_type": "stream",
     "name": "stdout",
     "output_type": "stream",
     "text": [
      "root\n |-- Age: string (nullable = true)\n |-- Gender: string (nullable = true)\n |-- Screen Time Type: string (nullable = true)\n |-- Day Type: string (nullable = true)\n |-- Average Screen Time (hours): string (nullable = true)\n |-- Sample Size: string (nullable = true)\n\n"
     ]
    }
   ],
   "source": [
    "# Mostrando o schema dos dados\n",
    "df.printSchema()"
   ]
  },
  {
   "cell_type": "markdown",
   "metadata": {
    "application/vnd.databricks.v1+cell": {
     "cellMetadata": {
      "byteLimit": 2048000,
      "rowLimit": 10000
     },
     "inputWidgets": {},
     "nuid": "c4d16018-1c31-4583-97f5-12d85312512e",
     "showTitle": false,
     "tableResultSettingsMap": {},
     "title": ""
    }
   },
   "source": [
    "Como visto, o conjunto de dados é composto por 6 colunas.\n",
    "\n",
    "A coluna Age, contém informações de idade, a coluna Gender especifica o gênero, a coluna Sreen Time Type contém os tipos de uso das telas, a coluna Day Type mostra se o uso foi durante o fim de semana ou durante a semana, a coluna Average screen time (hours) contém dados de tempo médio de uso de tela, e a coluna Sample Size contém dados sobre o tamanho da amostra observada.\n",
    "\n",
    "Inicialmente, as colunas serão renomeadas para que fiquem com cabeçalhos padronizados."
   ]
  },
  {
   "cell_type": "code",
   "execution_count": 0,
   "metadata": {
    "application/vnd.databricks.v1+cell": {
     "cellMetadata": {
      "byteLimit": 2048000,
      "rowLimit": 10000
     },
     "inputWidgets": {},
     "nuid": "2f430e6c-5bc0-430d-b127-005f7198d1de",
     "showTitle": false,
     "tableResultSettingsMap": {},
     "title": ""
    }
   },
   "outputs": [
    {
     "output_type": "display_data",
     "data": {
      "text/html": [
       "<style scoped>\n",
       "  .table-result-container {\n",
       "    max-height: 300px;\n",
       "    overflow: auto;\n",
       "  }\n",
       "  table, th, td {\n",
       "    border: 1px solid black;\n",
       "    border-collapse: collapse;\n",
       "  }\n",
       "  th, td {\n",
       "    padding: 5px;\n",
       "  }\n",
       "  th {\n",
       "    text-align: left;\n",
       "  }\n",
       "</style><div class='table-result-container'><table class='table-result'><thead style='background-color: white'><tr><th>Age</th><th>Gender</th><th>Screen_Time_Type</th><th>Day_Type</th><th>Average_Screen_Time_hours</th><th>Sample_Size</th></tr></thead><tbody><tr><td>5</td><td>Male</td><td>Educational</td><td>Weekday</td><td>0.44</td><td>500</td></tr><tr><td>5</td><td>Male</td><td>Recreational</td><td>Weekday</td><td>1.11</td><td>500</td></tr><tr><td>5</td><td>Male</td><td>Total</td><td>Weekday</td><td>1.55</td><td>500</td></tr><tr><td>5</td><td>Male</td><td>Educational</td><td>Weekend</td><td>0.5</td><td>500</td></tr><tr><td>5</td><td>Male</td><td>Recreational</td><td>Weekend</td><td>1.44</td><td>500</td></tr></tbody></table></div>"
      ]
     },
     "metadata": {
      "application/vnd.databricks.v1+output": {
       "addedWidgets": {},
       "aggData": [],
       "aggError": "",
       "aggOverflow": false,
       "aggSchema": [],
       "aggSeriesLimitReached": false,
       "aggType": "",
       "arguments": {},
       "columnCustomDisplayInfos": {},
       "data": [
        [
         "5",
         "Male",
         "Educational",
         "Weekday",
         "0.44",
         "500"
        ],
        [
         "5",
         "Male",
         "Recreational",
         "Weekday",
         "1.11",
         "500"
        ],
        [
         "5",
         "Male",
         "Total",
         "Weekday",
         "1.55",
         "500"
        ],
        [
         "5",
         "Male",
         "Educational",
         "Weekend",
         "0.5",
         "500"
        ],
        [
         "5",
         "Male",
         "Recreational",
         "Weekend",
         "1.44",
         "500"
        ]
       ],
       "datasetInfos": [],
       "dbfsResultPath": null,
       "isJsonSchema": true,
       "metadata": {},
       "overflow": false,
       "plotOptions": {
        "customPlotOptions": {},
        "displayType": "table",
        "pivotAggregation": null,
        "pivotColumns": null,
        "xColumns": null,
        "yColumns": null
       },
       "removedWidgets": [],
       "schema": [
        {
         "metadata": "{}",
         "name": "Age",
         "type": "\"string\""
        },
        {
         "metadata": "{}",
         "name": "Gender",
         "type": "\"string\""
        },
        {
         "metadata": "{}",
         "name": "Screen_Time_Type",
         "type": "\"string\""
        },
        {
         "metadata": "{}",
         "name": "Day_Type",
         "type": "\"string\""
        },
        {
         "metadata": "{}",
         "name": "Average_Screen_Time_hours",
         "type": "\"string\""
        },
        {
         "metadata": "{}",
         "name": "Sample_Size",
         "type": "\"string\""
        }
       ],
       "type": "table"
      }
     },
     "output_type": "display_data"
    }
   ],
   "source": [
    "# Renomar colunas\n",
    "df = df.withColumnRenamed(\"Screen Time Type\", \"Screen_Time_Type\")\n",
    "df = df.withColumnRenamed(\"Average Screen Time (hours)\", \"Average_Screen_Time_hours\")\n",
    "df = df.withColumnRenamed(\"Day Type\", \"Day_Type\")\n",
    "df = df.withColumnRenamed(\"Sample Size\", \"Sample_Size\")\n",
    "\n",
    "# Mostrar primeiras linhas do data frame\n",
    "display(df.limit(5))"
   ]
  },
  {
   "cell_type": "markdown",
   "metadata": {
    "application/vnd.databricks.v1+cell": {
     "cellMetadata": {
      "byteLimit": 2048000,
      "rowLimit": 10000
     },
     "inputWidgets": {},
     "nuid": "913578b1-06c3-4dfb-a315-cf6a5cbb4df5",
     "showTitle": false,
     "tableResultSettingsMap": {},
     "title": ""
    }
   },
   "source": [
    "Ao observar o schema de dados, também foi visto que as 6 colunas estão em formato string. Então, será ajustado para que as colunas com dados numéricos sejam corretamente armazenadas."
   ]
  },
  {
   "cell_type": "code",
   "execution_count": 0,
   "metadata": {
    "application/vnd.databricks.v1+cell": {
     "cellMetadata": {
      "byteLimit": 2048000,
      "rowLimit": 10000
     },
     "inputWidgets": {},
     "nuid": "5e32ef6d-ef48-4bc3-a972-3100058d10b8",
     "showTitle": false,
     "tableResultSettingsMap": {},
     "title": ""
    }
   },
   "outputs": [
    {
     "output_type": "stream",
     "name": "stdout",
     "output_type": "stream",
     "text": [
      "root\n |-- Age: integer (nullable = true)\n |-- Gender: string (nullable = true)\n |-- Screen_Time_Type: string (nullable = true)\n |-- Day_Type: string (nullable = true)\n |-- Average_Screen_Time_hours: float (nullable = true)\n |-- Sample_Size: integer (nullable = true)\n\n"
     ]
    }
   ],
   "source": [
    "# Mudar tipo de dados das colunas numéricas\n",
    "df = df.withColumn(\"Age\", df[\"Age\"].cast(\"int\"));\n",
    "df = df.withColumn(\"Sample_Size\", df[\"Sample_Size\"].cast(\"int\"));\n",
    "df = df.withColumn(\"Average_Screen_Time_hours\", df[\"Average_Screen_Time_hours\"].cast(\"float\"))\n",
    "\n",
    "# Conferir schema\n",
    "df.printSchema()"
   ]
  },
  {
   "cell_type": "markdown",
   "metadata": {
    "application/vnd.databricks.v1+cell": {
     "cellMetadata": {
      "byteLimit": 2048000,
      "rowLimit": 10000
     },
     "inputWidgets": {},
     "nuid": "8eccceff-d502-40dd-bc82-f756ebbcb67d",
     "showTitle": false,
     "tableResultSettingsMap": {},
     "title": ""
    }
   },
   "source": [
    "Agora que as colunas estão com tipos corretos, serão obervadas algumas analises descritivas básicas."
   ]
  },
  {
   "cell_type": "code",
   "execution_count": 0,
   "metadata": {
    "application/vnd.databricks.v1+cell": {
     "cellMetadata": {
      "byteLimit": 2048000,
      "rowLimit": 10000
     },
     "inputWidgets": {},
     "nuid": "ae7e3b65-313e-4b6a-a144-ec347a4523f7",
     "showTitle": false,
     "tableResultSettingsMap": {},
     "title": ""
    }
   },
   "outputs": [
    {
     "output_type": "stream",
     "name": "stdout",
     "output_type": "stream",
     "text": [
      "+-------+------------------+--------------------+----------------+--------+-------------------------+-----------------+\n|summary|               Age|              Gender|Screen_Time_Type|Day_Type|Average_Screen_Time_hours|      Sample_Size|\n+-------+------------------+--------------------+----------------+--------+-------------------------+-----------------+\n|  count|               198|                 198|             198|     198|                      198|              198|\n|   mean|              10.0|                NULL|            NULL|    NULL|        2.993030306064721|            400.0|\n| stddev|3.1702935859821872|                NULL|            NULL|    NULL|       1.9228215025960735|63.40587171964375|\n|    min|                 5|              Female|     Educational| Weekday|                     0.44|              300|\n|    max|                15|Other/Prefer not ...|           Total| Weekend|                     8.19|              500|\n+-------+------------------+--------------------+----------------+--------+-------------------------+-----------------+\n\n"
     ]
    }
   ],
   "source": [
    "df.describe().show()"
   ]
  },
  {
   "cell_type": "markdown",
   "metadata": {
    "application/vnd.databricks.v1+cell": {
     "cellMetadata": {
      "byteLimit": 2048000,
      "rowLimit": 10000
     },
     "inputWidgets": {},
     "nuid": "ee46b827-4fa5-4505-adbd-9d6cb9963acf",
     "showTitle": false,
     "tableResultSettingsMap": {},
     "title": ""
    }
   },
   "source": [
    "Pode-se ver que há 198 observações para esse conjunto de dados. \n",
    "A coluna Age tem valore de 5 a 15, com média de 10 anos.\n",
    "A coluna Average_Screen_Time_hours tem valores que vão de aproximadamente 26 minutos a 8 horas.\n",
    "A coluna Sample_Size tem valores que vão de 300 a 500, com média de 400 observações.\n",
    "\n",
    "Agora será analisado se as colunas contem valores nulos e posteriormente serão observados todos os valores contidos em cada coluna para analisar se é necessário algum tipo de tratamento para retirada de dados inválidos.\n",
    " "
   ]
  },
  {
   "cell_type": "code",
   "execution_count": 0,
   "metadata": {
    "application/vnd.databricks.v1+cell": {
     "cellMetadata": {
      "byteLimit": 2048000,
      "rowLimit": 10000
     },
     "inputWidgets": {},
     "nuid": "e27f9ec2-3f70-4d95-9996-82c01ad35e7c",
     "showTitle": false,
     "tableResultSettingsMap": {},
     "title": ""
    }
   },
   "outputs": [
    {
     "output_type": "stream",
     "name": "stdout",
     "output_type": "stream",
     "text": [
      "+---+------+----------------+--------+-------------------------+-----------+\n|Age|Gender|Screen_Time_Type|Day_Type|Average_Screen_Time_hours|Sample_Size|\n+---+------+----------------+--------+-------------------------+-----------+\n|  0|     0|               0|       0|                        0|          0|\n+---+------+----------------+--------+-------------------------+-----------+\n\n"
     ]
    }
   ],
   "source": [
    "# Importar função count\n",
    "from pyspark.sql.functions import count, when, isnan, col\n",
    "\n",
    "# Mostrar valores nulos\n",
    "df.select([count(when(isnan(c) | col(c).isNull(),c)).alias(c) for c in df.columns]).show()"
   ]
  },
  {
   "cell_type": "markdown",
   "metadata": {
    "application/vnd.databricks.v1+cell": {
     "cellMetadata": {
      "byteLimit": 2048000,
      "rowLimit": 10000
     },
     "inputWidgets": {},
     "nuid": "dde4126b-e5ab-4922-8524-ff7e34a70e30",
     "showTitle": false,
     "tableResultSettingsMap": {},
     "title": ""
    }
   },
   "source": [
    "Não há valores nulos nas colunas, serão analisados se há valores fora do esperado para as informações de cada coluna."
   ]
  },
  {
   "cell_type": "code",
   "execution_count": 0,
   "metadata": {
    "application/vnd.databricks.v1+cell": {
     "cellMetadata": {
      "byteLimit": 2048000,
      "implicitDf": true,
      "rowLimit": 10000
     },
     "inputWidgets": {},
     "nuid": "b504b055-5202-43bc-9168-7f17eb50da3c",
     "showTitle": false,
     "tableResultSettingsMap": {},
     "title": ""
    }
   },
   "outputs": [
    {
     "output_type": "stream",
     "name": "stdout",
     "output_type": "stream",
     "text": [
      "+---+\n|Age|\n+---+\n|12 |\n|13 |\n|6  |\n|5  |\n|15 |\n|9  |\n|8  |\n|7  |\n|10 |\n|11 |\n|14 |\n+---+\n\n"
     ]
    }
   ],
   "source": [
    "# Mostrando valores da coluna Age\n",
    "dropDisDF = df.dropDuplicates([\"Age\"]).select(\"Age\")\n",
    "dropDisDF.show(truncate=False)"
   ]
  },
  {
   "cell_type": "code",
   "execution_count": 0,
   "metadata": {
    "application/vnd.databricks.v1+cell": {
     "cellMetadata": {
      "byteLimit": 2048000,
      "rowLimit": 10000
     },
     "inputWidgets": {},
     "nuid": "b153b940-619c-4aac-8482-1d1993870ff1",
     "showTitle": false,
     "tableResultSettingsMap": {},
     "title": ""
    }
   },
   "outputs": [
    {
     "output_type": "stream",
     "name": "stdout",
     "output_type": "stream",
     "text": [
      "+-----------------------+\n|Gender                 |\n+-----------------------+\n|Other/Prefer not to say|\n|Female                 |\n|Male                   |\n+-----------------------+\n\n"
     ]
    }
   ],
   "source": [
    "# Mostrando valores da coluna Gender\n",
    "dropDisDF = df.dropDuplicates([\"Gender\"]).select(\"Gender\")\n",
    "dropDisDF.show(truncate=False)"
   ]
  },
  {
   "cell_type": "code",
   "execution_count": 0,
   "metadata": {
    "application/vnd.databricks.v1+cell": {
     "cellMetadata": {
      "byteLimit": 2048000,
      "rowLimit": 10000
     },
     "inputWidgets": {},
     "nuid": "d4c8d49d-72c6-42c0-8b95-5470bb802412",
     "showTitle": false,
     "tableResultSettingsMap": {},
     "title": ""
    }
   },
   "outputs": [
    {
     "output_type": "stream",
     "name": "stdout",
     "output_type": "stream",
     "text": [
      "+----------------+\n|Screen_Time_Type|\n+----------------+\n|Total           |\n|Educational     |\n|Recreational    |\n+----------------+\n\n"
     ]
    }
   ],
   "source": [
    "# Mostrando valores da coluna Screen_Time_Type\n",
    "dropDisDF = df.dropDuplicates([\"Screen_Time_Type\"]).select(\"Screen_Time_Type\")\n",
    "dropDisDF.show(truncate=False)"
   ]
  },
  {
   "cell_type": "code",
   "execution_count": 0,
   "metadata": {
    "application/vnd.databricks.v1+cell": {
     "cellMetadata": {
      "byteLimit": 2048000,
      "rowLimit": 10000
     },
     "inputWidgets": {},
     "nuid": "1f09076c-31ed-4264-8fc4-c7112c66743f",
     "showTitle": false,
     "tableResultSettingsMap": {},
     "title": ""
    }
   },
   "outputs": [
    {
     "output_type": "stream",
     "name": "stdout",
     "output_type": "stream",
     "text": [
      "+--------+\n|Day_Type|\n+--------+\n|Weekday |\n|Weekend |\n+--------+\n\n"
     ]
    }
   ],
   "source": [
    "# Mostrando valores da coluna Day_Type\n",
    "dropDisDF = df.dropDuplicates([\"Day_Type\"]).select(\"Day_Type\")\n",
    "dropDisDF.show(truncate=False)"
   ]
  },
  {
   "cell_type": "code",
   "execution_count": 0,
   "metadata": {
    "application/vnd.databricks.v1+cell": {
     "cellMetadata": {
      "byteLimit": 2048000,
      "rowLimit": 10000
     },
     "inputWidgets": {},
     "nuid": "7cb27af0-41ac-48dd-a0c1-3af649a0b235",
     "showTitle": false,
     "tableResultSettingsMap": {},
     "title": ""
    }
   },
   "outputs": [
    {
     "output_type": "stream",
     "name": "stdout",
     "output_type": "stream",
     "text": [
      "+-------------------------+\n|Average_Screen_Time_hours|\n+-------------------------+\n|1.63                     |\n|5.44                     |\n|3.22                     |\n|0.73                     |\n|5.89                     |\n|3.81                     |\n|5.36                     |\n|1.47                     |\n|1.08                     |\n|4.95                     |\n|5.0                      |\n|1.73                     |\n|5.23                     |\n|2.02                     |\n|1.36                     |\n|6.93                     |\n|4.19                     |\n|5.82                     |\n|5.5                      |\n|2.5                      |\n+-------------------------+\nonly showing top 20 rows\n\n"
     ]
    }
   ],
   "source": [
    "# Mostrando valores da coluna Average_Screen_Time_hours\n",
    "dropDisDF = df.dropDuplicates([\"Average_Screen_Time_hours\"]).select(\"Average_Screen_Time_hours\")\n",
    "dropDisDF.show(truncate=False)"
   ]
  },
  {
   "cell_type": "code",
   "execution_count": 0,
   "metadata": {
    "application/vnd.databricks.v1+cell": {
     "cellMetadata": {
      "byteLimit": 2048000,
      "rowLimit": 10000
     },
     "inputWidgets": {},
     "nuid": "9dd7fc70-0d4c-4e90-a63e-f9fde6c57879",
     "showTitle": false,
     "tableResultSettingsMap": {},
     "title": ""
    }
   },
   "outputs": [
    {
     "output_type": "stream",
     "name": "stdout",
     "output_type": "stream",
     "text": [
      "+-----------+\n|Sample_Size|\n+-----------+\n|300        |\n|460        |\n|360        |\n|440        |\n|500        |\n|340        |\n|380        |\n|400        |\n|320        |\n|480        |\n|420        |\n+-----------+\n\n"
     ]
    }
   ],
   "source": [
    "# Mostrando valores da coluna Sample_Size\n",
    "dropDisDF = df.dropDuplicates([\"Sample_Size\"]).select(\"Sample_Size\")\n",
    "dropDisDF.show(truncate=False)"
   ]
  },
  {
   "cell_type": "markdown",
   "metadata": {
    "application/vnd.databricks.v1+cell": {
     "cellMetadata": {
      "byteLimit": 2048000,
      "rowLimit": 10000
     },
     "inputWidgets": {},
     "nuid": "49814878-5360-4742-b84f-556b82e96b4f",
     "showTitle": false,
     "tableResultSettingsMap": {},
     "title": ""
    }
   },
   "source": [
    "Aparentemente, não há nenhum valor que deva ser substituído. Para a visualização da coluna Average_Screen_Time_Hours foram mostrados apenas os primeiros 20 valores, mas considerando as informações de analise descritiva, onde o valor mínimo era 0.44 e o valor máximo 8.26, pode-se considerar que ela se encontra dentro de um range esperado."
   ]
  },
  {
   "cell_type": "markdown",
   "metadata": {
    "application/vnd.databricks.v1+cell": {
     "cellMetadata": {
      "byteLimit": 2048000,
      "rowLimit": 10000
     },
     "inputWidgets": {},
     "nuid": "4e2020fb-c43b-4519-a085-95b661735590",
     "showTitle": false,
     "tableResultSettingsMap": {},
     "title": ""
    }
   },
   "source": [
    "# 4. Extraindo informações dos dados\n",
    " \n",
    " Serão feitas as analises para atender os objetivos do projeto.\n",
    "\n",
    " Sendo eles: \n",
    " \n",
    "-  entender qual o tempo médio de exposição a telas entre diferentes faixas etárias;\n",
    "\n",
    "-  qual o gênero com maior tempo de exposição a tela; \n",
    " \n",
    "-  qual o tipo de acesso mais frequente entre os usuários."
   ]
  },
  {
   "cell_type": "markdown",
   "metadata": {
    "application/vnd.databricks.v1+cell": {
     "cellMetadata": {
      "byteLimit": 2048000,
      "rowLimit": 10000
     },
     "inputWidgets": {},
     "nuid": "fe0e0fdc-f51d-4dac-ae71-647c86645e16",
     "showTitle": false,
     "tableResultSettingsMap": {},
     "title": ""
    }
   },
   "source": [
    "Primeiramente, vamos analisar se a distribuição de amostras tem uma disparidade muito grande, o que poderia enviesar os resultados observados."
   ]
  },
  {
   "cell_type": "code",
   "execution_count": 0,
   "metadata": {
    "application/vnd.databricks.v1+cell": {
     "cellMetadata": {
      "byteLimit": 2048000,
      "rowLimit": 10000
     },
     "inputWidgets": {},
     "nuid": "591bcb00-e12f-483e-bdab-5789eece7663",
     "showTitle": false,
     "tableResultSettingsMap": {},
     "title": ""
    }
   },
   "outputs": [
    {
     "output_type": "display_data",
     "data": {
      "text/html": [
       "<style scoped>\n",
       "  .table-result-container {\n",
       "    max-height: 300px;\n",
       "    overflow: auto;\n",
       "  }\n",
       "  table, th, td {\n",
       "    border: 1px solid black;\n",
       "    border-collapse: collapse;\n",
       "  }\n",
       "  th, td {\n",
       "    padding: 5px;\n",
       "  }\n",
       "  th {\n",
       "    text-align: left;\n",
       "  }\n",
       "</style><div class='table-result-container'><table class='table-result'><thead style='background-color: white'><tr><th>Age</th><th>Screen_Time_Type</th><th>Gender</th><th>Day_Type</th><th>sum(Sample_Size)</th></tr></thead><tbody><tr><td>15</td><td>Educational</td><td>Male</td><td>Weekday</td><td>300</td></tr><tr><td>15</td><td>Recreational</td><td>Female</td><td>Weekend</td><td>300</td></tr><tr><td>15</td><td>Recreational</td><td>Male</td><td>Weekday</td><td>300</td></tr><tr><td>15</td><td>Recreational</td><td>Other/Prefer not to say</td><td>Weekday</td><td>300</td></tr><tr><td>15</td><td>Educational</td><td>Female</td><td>Weekend</td><td>300</td></tr><tr><td>15</td><td>Total</td><td>Female</td><td>Weekend</td><td>300</td></tr><tr><td>15</td><td>Recreational</td><td>Female</td><td>Weekday</td><td>300</td></tr><tr><td>15</td><td>Total</td><td>Male</td><td>Weekday</td><td>300</td></tr><tr><td>15</td><td>Total</td><td>Other/Prefer not to say</td><td>Weekend</td><td>300</td></tr><tr><td>15</td><td>Total</td><td>Female</td><td>Weekday</td><td>300</td></tr><tr><td>15</td><td>Educational</td><td>Male</td><td>Weekend</td><td>300</td></tr><tr><td>15</td><td>Educational</td><td>Other/Prefer not to say</td><td>Weekend</td><td>300</td></tr><tr><td>15</td><td>Educational</td><td>Female</td><td>Weekday</td><td>300</td></tr><tr><td>15</td><td>Educational</td><td>Other/Prefer not to say</td><td>Weekday</td><td>300</td></tr><tr><td>15</td><td>Total</td><td>Other/Prefer not to say</td><td>Weekday</td><td>300</td></tr><tr><td>15</td><td>Total</td><td>Male</td><td>Weekend</td><td>300</td></tr><tr><td>15</td><td>Recreational</td><td>Other/Prefer not to say</td><td>Weekend</td><td>300</td></tr><tr><td>15</td><td>Recreational</td><td>Male</td><td>Weekend</td><td>300</td></tr><tr><td>14</td><td>Recreational</td><td>Male</td><td>Weekend</td><td>320</td></tr><tr><td>14</td><td>Educational</td><td>Other/Prefer not to say</td><td>Weekday</td><td>320</td></tr><tr><td>14</td><td>Educational</td><td>Female</td><td>Weekday</td><td>320</td></tr><tr><td>14</td><td>Educational</td><td>Male</td><td>Weekday</td><td>320</td></tr><tr><td>14</td><td>Total</td><td>Other/Prefer not to say</td><td>Weekday</td><td>320</td></tr><tr><td>14</td><td>Total</td><td>Female</td><td>Weekday</td><td>320</td></tr><tr><td>14</td><td>Recreational</td><td>Male</td><td>Weekday</td><td>320</td></tr><tr><td>14</td><td>Educational</td><td>Female</td><td>Weekend</td><td>320</td></tr><tr><td>14</td><td>Total</td><td>Female</td><td>Weekend</td><td>320</td></tr><tr><td>14</td><td>Total</td><td>Male</td><td>Weekday</td><td>320</td></tr><tr><td>14</td><td>Recreational</td><td>Other/Prefer not to say</td><td>Weekday</td><td>320</td></tr><tr><td>14</td><td>Recreational</td><td>Female</td><td>Weekday</td><td>320</td></tr><tr><td>14</td><td>Recreational</td><td>Other/Prefer not to say</td><td>Weekend</td><td>320</td></tr><tr><td>14</td><td>Total</td><td>Male</td><td>Weekend</td><td>320</td></tr><tr><td>14</td><td>Educational</td><td>Male</td><td>Weekend</td><td>320</td></tr><tr><td>14</td><td>Total</td><td>Other/Prefer not to say</td><td>Weekend</td><td>320</td></tr><tr><td>14</td><td>Recreational</td><td>Female</td><td>Weekend</td><td>320</td></tr><tr><td>14</td><td>Educational</td><td>Other/Prefer not to say</td><td>Weekend</td><td>320</td></tr><tr><td>13</td><td>Recreational</td><td>Other/Prefer not to say</td><td>Weekend</td><td>340</td></tr><tr><td>13</td><td>Recreational</td><td>Female</td><td>Weekday</td><td>340</td></tr><tr><td>13</td><td>Total</td><td>Female</td><td>Weekend</td><td>340</td></tr><tr><td>13</td><td>Recreational</td><td>Male</td><td>Weekday</td><td>340</td></tr><tr><td>13</td><td>Recreational</td><td>Male</td><td>Weekend</td><td>340</td></tr><tr><td>13</td><td>Educational</td><td>Male</td><td>Weekend</td><td>340</td></tr><tr><td>13</td><td>Total</td><td>Other/Prefer not to say</td><td>Weekend</td><td>340</td></tr><tr><td>13</td><td>Educational</td><td>Other/Prefer not to say</td><td>Weekday</td><td>340</td></tr><tr><td>13</td><td>Total</td><td>Female</td><td>Weekday</td><td>340</td></tr><tr><td>13</td><td>Educational</td><td>Other/Prefer not to say</td><td>Weekend</td><td>340</td></tr><tr><td>13</td><td>Educational</td><td>Male</td><td>Weekday</td><td>340</td></tr><tr><td>13</td><td>Educational</td><td>Female</td><td>Weekday</td><td>340</td></tr><tr><td>13</td><td>Recreational</td><td>Female</td><td>Weekend</td><td>340</td></tr><tr><td>13</td><td>Recreational</td><td>Other/Prefer not to say</td><td>Weekday</td><td>340</td></tr><tr><td>13</td><td>Total</td><td>Other/Prefer not to say</td><td>Weekday</td><td>340</td></tr><tr><td>13</td><td>Total</td><td>Male</td><td>Weekend</td><td>340</td></tr><tr><td>13</td><td>Total</td><td>Male</td><td>Weekday</td><td>340</td></tr><tr><td>13</td><td>Educational</td><td>Female</td><td>Weekend</td><td>340</td></tr><tr><td>12</td><td>Educational</td><td>Female</td><td>Weekday</td><td>360</td></tr><tr><td>12</td><td>Educational</td><td>Male</td><td>Weekend</td><td>360</td></tr><tr><td>12</td><td>Total</td><td>Other/Prefer not to say</td><td>Weekday</td><td>360</td></tr><tr><td>12</td><td>Total</td><td>Other/Prefer not to say</td><td>Weekend</td><td>360</td></tr><tr><td>12</td><td>Total</td><td>Male</td><td>Weekend</td><td>360</td></tr><tr><td>12</td><td>Recreational</td><td>Other/Prefer not to say</td><td>Weekend</td><td>360</td></tr><tr><td>12</td><td>Educational</td><td>Male</td><td>Weekday</td><td>360</td></tr><tr><td>12</td><td>Recreational</td><td>Other/Prefer not to say</td><td>Weekday</td><td>360</td></tr><tr><td>12</td><td>Recreational</td><td>Female</td><td>Weekend</td><td>360</td></tr><tr><td>12</td><td>Recreational</td><td>Male</td><td>Weekday</td><td>360</td></tr><tr><td>12</td><td>Recreational</td><td>Female</td><td>Weekday</td><td>360</td></tr><tr><td>12</td><td>Total</td><td>Female</td><td>Weekend</td><td>360</td></tr><tr><td>12</td><td>Total</td><td>Male</td><td>Weekday</td><td>360</td></tr><tr><td>12</td><td>Educational</td><td>Other/Prefer not to say</td><td>Weekday</td><td>360</td></tr><tr><td>12</td><td>Educational</td><td>Female</td><td>Weekend</td><td>360</td></tr><tr><td>12</td><td>Recreational</td><td>Male</td><td>Weekend</td><td>360</td></tr><tr><td>12</td><td>Total</td><td>Female</td><td>Weekday</td><td>360</td></tr><tr><td>12</td><td>Educational</td><td>Other/Prefer not to say</td><td>Weekend</td><td>360</td></tr><tr><td>11</td><td>Recreational</td><td>Male</td><td>Weekend</td><td>380</td></tr><tr><td>11</td><td>Educational</td><td>Male</td><td>Weekend</td><td>380</td></tr><tr><td>11</td><td>Educational</td><td>Other/Prefer not to say</td><td>Weekday</td><td>380</td></tr><tr><td>11</td><td>Total</td><td>Female</td><td>Weekday</td><td>380</td></tr><tr><td>11</td><td>Educational</td><td>Female</td><td>Weekday</td><td>380</td></tr><tr><td>11</td><td>Educational</td><td>Other/Prefer not to say</td><td>Weekend</td><td>380</td></tr><tr><td>11</td><td>Educational</td><td>Female</td><td>Weekend</td><td>380</td></tr><tr><td>11</td><td>Total</td><td>Other/Prefer not to say</td><td>Weekday</td><td>380</td></tr><tr><td>11</td><td>Recreational</td><td>Female</td><td>Weekday</td><td>380</td></tr><tr><td>11</td><td>Educational</td><td>Male</td><td>Weekday</td><td>380</td></tr><tr><td>11</td><td>Recreational</td><td>Other/Prefer not to say</td><td>Weekday</td><td>380</td></tr><tr><td>11</td><td>Recreational</td><td>Male</td><td>Weekday</td><td>380</td></tr><tr><td>11</td><td>Recreational</td><td>Female</td><td>Weekend</td><td>380</td></tr><tr><td>11</td><td>Total</td><td>Male</td><td>Weekday</td><td>380</td></tr><tr><td>11</td><td>Total</td><td>Male</td><td>Weekend</td><td>380</td></tr><tr><td>11</td><td>Recreational</td><td>Other/Prefer not to say</td><td>Weekend</td><td>380</td></tr><tr><td>11</td><td>Total</td><td>Other/Prefer not to say</td><td>Weekend</td><td>380</td></tr><tr><td>11</td><td>Total</td><td>Female</td><td>Weekend</td><td>380</td></tr><tr><td>10</td><td>Total</td><td>Other/Prefer not to say</td><td>Weekend</td><td>400</td></tr><tr><td>10</td><td>Recreational</td><td>Male</td><td>Weekend</td><td>400</td></tr><tr><td>10</td><td>Recreational</td><td>Other/Prefer not to say</td><td>Weekday</td><td>400</td></tr><tr><td>10</td><td>Total</td><td>Female</td><td>Weekend</td><td>400</td></tr><tr><td>10</td><td>Educational</td><td>Male</td><td>Weekday</td><td>400</td></tr><tr><td>10</td><td>Educational</td><td>Other/Prefer not to say</td><td>Weekend</td><td>400</td></tr><tr><td>10</td><td>Total</td><td>Female</td><td>Weekday</td><td>400</td></tr><tr><td>10</td><td>Educational</td><td>Female</td><td>Weekday</td><td>400</td></tr><tr><td>10</td><td>Recreational</td><td>Other/Prefer not to say</td><td>Weekend</td><td>400</td></tr><tr><td>10</td><td>Total</td><td>Other/Prefer not to say</td><td>Weekday</td><td>400</td></tr><tr><td>10</td><td>Recreational</td><td>Male</td><td>Weekday</td><td>400</td></tr><tr><td>10</td><td>Recreational</td><td>Female</td><td>Weekend</td><td>400</td></tr><tr><td>10</td><td>Total</td><td>Male</td><td>Weekday</td><td>400</td></tr><tr><td>10</td><td>Recreational</td><td>Female</td><td>Weekday</td><td>400</td></tr><tr><td>10</td><td>Educational</td><td>Female</td><td>Weekend</td><td>400</td></tr><tr><td>10</td><td>Educational</td><td>Male</td><td>Weekend</td><td>400</td></tr><tr><td>10</td><td>Total</td><td>Male</td><td>Weekend</td><td>400</td></tr><tr><td>10</td><td>Educational</td><td>Other/Prefer not to say</td><td>Weekday</td><td>400</td></tr><tr><td>9</td><td>Recreational</td><td>Male</td><td>Weekday</td><td>420</td></tr><tr><td>9</td><td>Total</td><td>Male</td><td>Weekend</td><td>420</td></tr><tr><td>9</td><td>Recreational</td><td>Male</td><td>Weekend</td><td>420</td></tr><tr><td>9</td><td>Educational</td><td>Female</td><td>Weekend</td><td>420</td></tr><tr><td>9</td><td>Total</td><td>Other/Prefer not to say</td><td>Weekend</td><td>420</td></tr><tr><td>9</td><td>Educational</td><td>Male</td><td>Weekday</td><td>420</td></tr><tr><td>9</td><td>Educational</td><td>Other/Prefer not to say</td><td>Weekend</td><td>420</td></tr><tr><td>9</td><td>Total</td><td>Male</td><td>Weekday</td><td>420</td></tr><tr><td>9</td><td>Educational</td><td>Other/Prefer not to say</td><td>Weekday</td><td>420</td></tr><tr><td>9</td><td>Educational</td><td>Female</td><td>Weekday</td><td>420</td></tr><tr><td>9</td><td>Total</td><td>Female</td><td>Weekend</td><td>420</td></tr><tr><td>9</td><td>Recreational</td><td>Female</td><td>Weekday</td><td>420</td></tr><tr><td>9</td><td>Recreational</td><td>Other/Prefer not to say</td><td>Weekday</td><td>420</td></tr><tr><td>9</td><td>Recreational</td><td>Female</td><td>Weekend</td><td>420</td></tr><tr><td>9</td><td>Recreational</td><td>Other/Prefer not to say</td><td>Weekend</td><td>420</td></tr><tr><td>9</td><td>Total</td><td>Female</td><td>Weekday</td><td>420</td></tr><tr><td>9</td><td>Educational</td><td>Male</td><td>Weekend</td><td>420</td></tr><tr><td>9</td><td>Total</td><td>Other/Prefer not to say</td><td>Weekday</td><td>420</td></tr><tr><td>8</td><td>Total</td><td>Other/Prefer not to say</td><td>Weekday</td><td>440</td></tr><tr><td>8</td><td>Total</td><td>Female</td><td>Weekend</td><td>440</td></tr><tr><td>8</td><td>Educational</td><td>Female</td><td>Weekend</td><td>440</td></tr><tr><td>8</td><td>Recreational</td><td>Female</td><td>Weekday</td><td>440</td></tr><tr><td>8</td><td>Recreational</td><td>Male</td><td>Weekday</td><td>440</td></tr><tr><td>8</td><td>Total</td><td>Other/Prefer not to say</td><td>Weekend</td><td>440</td></tr><tr><td>8</td><td>Educational</td><td>Female</td><td>Weekday</td><td>440</td></tr><tr><td>8</td><td>Total</td><td>Male</td><td>Weekday</td><td>440</td></tr><tr><td>8</td><td>Educational</td><td>Male</td><td>Weekend</td><td>440</td></tr><tr><td>8</td><td>Total</td><td>Female</td><td>Weekday</td><td>440</td></tr><tr><td>8</td><td>Educational</td><td>Other/Prefer not to say</td><td>Weekday</td><td>440</td></tr><tr><td>8</td><td>Educational</td><td>Male</td><td>Weekday</td><td>440</td></tr><tr><td>8</td><td>Recreational</td><td>Female</td><td>Weekend</td><td>440</td></tr><tr><td>8</td><td>Recreational</td><td>Male</td><td>Weekend</td><td>440</td></tr><tr><td>8</td><td>Recreational</td><td>Other/Prefer not to say</td><td>Weekend</td><td>440</td></tr><tr><td>8</td><td>Total</td><td>Male</td><td>Weekend</td><td>440</td></tr><tr><td>8</td><td>Educational</td><td>Other/Prefer not to say</td><td>Weekend</td><td>440</td></tr><tr><td>8</td><td>Recreational</td><td>Other/Prefer not to say</td><td>Weekday</td><td>440</td></tr><tr><td>7</td><td>Total</td><td>Female</td><td>Weekday</td><td>460</td></tr><tr><td>7</td><td>Educational</td><td>Male</td><td>Weekday</td><td>460</td></tr><tr><td>7</td><td>Total</td><td>Male</td><td>Weekday</td><td>460</td></tr><tr><td>7</td><td>Recreational</td><td>Male</td><td>Weekday</td><td>460</td></tr><tr><td>7</td><td>Educational</td><td>Male</td><td>Weekend</td><td>460</td></tr><tr><td>7</td><td>Educational</td><td>Other/Prefer not to say</td><td>Weekend</td><td>460</td></tr><tr><td>7</td><td>Recreational</td><td>Female</td><td>Weekend</td><td>460</td></tr><tr><td>7</td><td>Educational</td><td>Female</td><td>Weekday</td><td>460</td></tr><tr><td>7</td><td>Total</td><td>Female</td><td>Weekend</td><td>460</td></tr><tr><td>7</td><td>Recreational</td><td>Male</td><td>Weekend</td><td>460</td></tr><tr><td>7</td><td>Educational</td><td>Female</td><td>Weekend</td><td>460</td></tr><tr><td>7</td><td>Recreational</td><td>Other/Prefer not to say</td><td>Weekend</td><td>460</td></tr><tr><td>7</td><td>Total</td><td>Other/Prefer not to say</td><td>Weekend</td><td>460</td></tr><tr><td>7</td><td>Recreational</td><td>Female</td><td>Weekday</td><td>460</td></tr><tr><td>7</td><td>Total</td><td>Male</td><td>Weekend</td><td>460</td></tr><tr><td>7</td><td>Educational</td><td>Other/Prefer not to say</td><td>Weekday</td><td>460</td></tr><tr><td>7</td><td>Recreational</td><td>Other/Prefer not to say</td><td>Weekday</td><td>460</td></tr><tr><td>7</td><td>Total</td><td>Other/Prefer not to say</td><td>Weekday</td><td>460</td></tr><tr><td>6</td><td>Total</td><td>Female</td><td>Weekend</td><td>480</td></tr><tr><td>6</td><td>Total</td><td>Male</td><td>Weekday</td><td>480</td></tr><tr><td>6</td><td>Total</td><td>Male</td><td>Weekend</td><td>480</td></tr><tr><td>6</td><td>Educational</td><td>Other/Prefer not to say</td><td>Weekday</td><td>480</td></tr><tr><td>6</td><td>Educational</td><td>Other/Prefer not to say</td><td>Weekend</td><td>480</td></tr><tr><td>6</td><td>Recreational</td><td>Male</td><td>Weekend</td><td>480</td></tr><tr><td>6</td><td>Recreational</td><td>Female</td><td>Weekend</td><td>480</td></tr><tr><td>6</td><td>Total</td><td>Female</td><td>Weekday</td><td>480</td></tr><tr><td>6</td><td>Educational</td><td>Male</td><td>Weekend</td><td>480</td></tr><tr><td>6</td><td>Educational</td><td>Female</td><td>Weekend</td><td>480</td></tr><tr><td>6</td><td>Recreational</td><td>Other/Prefer not to say</td><td>Weekend</td><td>480</td></tr><tr><td>6</td><td>Educational</td><td>Male</td><td>Weekday</td><td>480</td></tr><tr><td>6</td><td>Total</td><td>Other/Prefer not to say</td><td>Weekend</td><td>480</td></tr><tr><td>6</td><td>Recreational</td><td>Female</td><td>Weekday</td><td>480</td></tr><tr><td>6</td><td>Educational</td><td>Female</td><td>Weekday</td><td>480</td></tr><tr><td>6</td><td>Recreational</td><td>Other/Prefer not to say</td><td>Weekday</td><td>480</td></tr><tr><td>6</td><td>Total</td><td>Other/Prefer not to say</td><td>Weekday</td><td>480</td></tr><tr><td>6</td><td>Recreational</td><td>Male</td><td>Weekday</td><td>480</td></tr><tr><td>5</td><td>Educational</td><td>Male</td><td>Weekend</td><td>500</td></tr><tr><td>5</td><td>Educational</td><td>Male</td><td>Weekday</td><td>500</td></tr><tr><td>5</td><td>Educational</td><td>Other/Prefer not to say</td><td>Weekday</td><td>500</td></tr><tr><td>5</td><td>Total</td><td>Male</td><td>Weekend</td><td>500</td></tr><tr><td>5</td><td>Total</td><td>Female</td><td>Weekend</td><td>500</td></tr><tr><td>5</td><td>Recreational</td><td>Male</td><td>Weekday</td><td>500</td></tr><tr><td>5</td><td>Recreational</td><td>Other/Prefer not to say</td><td>Weekend</td><td>500</td></tr><tr><td>5</td><td>Total</td><td>Other/Prefer not to say</td><td>Weekday</td><td>500</td></tr><tr><td>5</td><td>Educational</td><td>Other/Prefer not to say</td><td>Weekend</td><td>500</td></tr><tr><td>5</td><td>Total</td><td>Male</td><td>Weekday</td><td>500</td></tr><tr><td>5</td><td>Total</td><td>Other/Prefer not to say</td><td>Weekend</td><td>500</td></tr><tr><td>5</td><td>Total</td><td>Female</td><td>Weekday</td><td>500</td></tr><tr><td>5</td><td>Educational</td><td>Female</td><td>Weekend</td><td>500</td></tr><tr><td>5</td><td>Educational</td><td>Female</td><td>Weekday</td><td>500</td></tr><tr><td>5</td><td>Recreational</td><td>Female</td><td>Weekend</td><td>500</td></tr><tr><td>5</td><td>Recreational</td><td>Male</td><td>Weekend</td><td>500</td></tr><tr><td>5</td><td>Recreational</td><td>Other/Prefer not to say</td><td>Weekday</td><td>500</td></tr><tr><td>5</td><td>Recreational</td><td>Female</td><td>Weekday</td><td>500</td></tr></tbody></table></div>"
      ]
     },
     "metadata": {
      "application/vnd.databricks.v1+output": {
       "addedWidgets": {},
       "aggData": [],
       "aggError": "",
       "aggOverflow": false,
       "aggSchema": [],
       "aggSeriesLimitReached": false,
       "aggType": "",
       "arguments": {},
       "columnCustomDisplayInfos": {},
       "data": [
        [
         15,
         "Educational",
         "Male",
         "Weekday",
         300
        ],
        [
         15,
         "Recreational",
         "Female",
         "Weekend",
         300
        ],
        [
         15,
         "Recreational",
         "Male",
         "Weekday",
         300
        ],
        [
         15,
         "Recreational",
         "Other/Prefer not to say",
         "Weekday",
         300
        ],
        [
         15,
         "Educational",
         "Female",
         "Weekend",
         300
        ],
        [
         15,
         "Total",
         "Female",
         "Weekend",
         300
        ],
        [
         15,
         "Recreational",
         "Female",
         "Weekday",
         300
        ],
        [
         15,
         "Total",
         "Male",
         "Weekday",
         300
        ],
        [
         15,
         "Total",
         "Other/Prefer not to say",
         "Weekend",
         300
        ],
        [
         15,
         "Total",
         "Female",
         "Weekday",
         300
        ],
        [
         15,
         "Educational",
         "Male",
         "Weekend",
         300
        ],
        [
         15,
         "Educational",
         "Other/Prefer not to say",
         "Weekend",
         300
        ],
        [
         15,
         "Educational",
         "Female",
         "Weekday",
         300
        ],
        [
         15,
         "Educational",
         "Other/Prefer not to say",
         "Weekday",
         300
        ],
        [
         15,
         "Total",
         "Other/Prefer not to say",
         "Weekday",
         300
        ],
        [
         15,
         "Total",
         "Male",
         "Weekend",
         300
        ],
        [
         15,
         "Recreational",
         "Other/Prefer not to say",
         "Weekend",
         300
        ],
        [
         15,
         "Recreational",
         "Male",
         "Weekend",
         300
        ],
        [
         14,
         "Recreational",
         "Male",
         "Weekend",
         320
        ],
        [
         14,
         "Educational",
         "Other/Prefer not to say",
         "Weekday",
         320
        ],
        [
         14,
         "Educational",
         "Female",
         "Weekday",
         320
        ],
        [
         14,
         "Educational",
         "Male",
         "Weekday",
         320
        ],
        [
         14,
         "Total",
         "Other/Prefer not to say",
         "Weekday",
         320
        ],
        [
         14,
         "Total",
         "Female",
         "Weekday",
         320
        ],
        [
         14,
         "Recreational",
         "Male",
         "Weekday",
         320
        ],
        [
         14,
         "Educational",
         "Female",
         "Weekend",
         320
        ],
        [
         14,
         "Total",
         "Female",
         "Weekend",
         320
        ],
        [
         14,
         "Total",
         "Male",
         "Weekday",
         320
        ],
        [
         14,
         "Recreational",
         "Other/Prefer not to say",
         "Weekday",
         320
        ],
        [
         14,
         "Recreational",
         "Female",
         "Weekday",
         320
        ],
        [
         14,
         "Recreational",
         "Other/Prefer not to say",
         "Weekend",
         320
        ],
        [
         14,
         "Total",
         "Male",
         "Weekend",
         320
        ],
        [
         14,
         "Educational",
         "Male",
         "Weekend",
         320
        ],
        [
         14,
         "Total",
         "Other/Prefer not to say",
         "Weekend",
         320
        ],
        [
         14,
         "Recreational",
         "Female",
         "Weekend",
         320
        ],
        [
         14,
         "Educational",
         "Other/Prefer not to say",
         "Weekend",
         320
        ],
        [
         13,
         "Recreational",
         "Other/Prefer not to say",
         "Weekend",
         340
        ],
        [
         13,
         "Recreational",
         "Female",
         "Weekday",
         340
        ],
        [
         13,
         "Total",
         "Female",
         "Weekend",
         340
        ],
        [
         13,
         "Recreational",
         "Male",
         "Weekday",
         340
        ],
        [
         13,
         "Recreational",
         "Male",
         "Weekend",
         340
        ],
        [
         13,
         "Educational",
         "Male",
         "Weekend",
         340
        ],
        [
         13,
         "Total",
         "Other/Prefer not to say",
         "Weekend",
         340
        ],
        [
         13,
         "Educational",
         "Other/Prefer not to say",
         "Weekday",
         340
        ],
        [
         13,
         "Total",
         "Female",
         "Weekday",
         340
        ],
        [
         13,
         "Educational",
         "Other/Prefer not to say",
         "Weekend",
         340
        ],
        [
         13,
         "Educational",
         "Male",
         "Weekday",
         340
        ],
        [
         13,
         "Educational",
         "Female",
         "Weekday",
         340
        ],
        [
         13,
         "Recreational",
         "Female",
         "Weekend",
         340
        ],
        [
         13,
         "Recreational",
         "Other/Prefer not to say",
         "Weekday",
         340
        ],
        [
         13,
         "Total",
         "Other/Prefer not to say",
         "Weekday",
         340
        ],
        [
         13,
         "Total",
         "Male",
         "Weekend",
         340
        ],
        [
         13,
         "Total",
         "Male",
         "Weekday",
         340
        ],
        [
         13,
         "Educational",
         "Female",
         "Weekend",
         340
        ],
        [
         12,
         "Educational",
         "Female",
         "Weekday",
         360
        ],
        [
         12,
         "Educational",
         "Male",
         "Weekend",
         360
        ],
        [
         12,
         "Total",
         "Other/Prefer not to say",
         "Weekday",
         360
        ],
        [
         12,
         "Total",
         "Other/Prefer not to say",
         "Weekend",
         360
        ],
        [
         12,
         "Total",
         "Male",
         "Weekend",
         360
        ],
        [
         12,
         "Recreational",
         "Other/Prefer not to say",
         "Weekend",
         360
        ],
        [
         12,
         "Educational",
         "Male",
         "Weekday",
         360
        ],
        [
         12,
         "Recreational",
         "Other/Prefer not to say",
         "Weekday",
         360
        ],
        [
         12,
         "Recreational",
         "Female",
         "Weekend",
         360
        ],
        [
         12,
         "Recreational",
         "Male",
         "Weekday",
         360
        ],
        [
         12,
         "Recreational",
         "Female",
         "Weekday",
         360
        ],
        [
         12,
         "Total",
         "Female",
         "Weekend",
         360
        ],
        [
         12,
         "Total",
         "Male",
         "Weekday",
         360
        ],
        [
         12,
         "Educational",
         "Other/Prefer not to say",
         "Weekday",
         360
        ],
        [
         12,
         "Educational",
         "Female",
         "Weekend",
         360
        ],
        [
         12,
         "Recreational",
         "Male",
         "Weekend",
         360
        ],
        [
         12,
         "Total",
         "Female",
         "Weekday",
         360
        ],
        [
         12,
         "Educational",
         "Other/Prefer not to say",
         "Weekend",
         360
        ],
        [
         11,
         "Recreational",
         "Male",
         "Weekend",
         380
        ],
        [
         11,
         "Educational",
         "Male",
         "Weekend",
         380
        ],
        [
         11,
         "Educational",
         "Other/Prefer not to say",
         "Weekday",
         380
        ],
        [
         11,
         "Total",
         "Female",
         "Weekday",
         380
        ],
        [
         11,
         "Educational",
         "Female",
         "Weekday",
         380
        ],
        [
         11,
         "Educational",
         "Other/Prefer not to say",
         "Weekend",
         380
        ],
        [
         11,
         "Educational",
         "Female",
         "Weekend",
         380
        ],
        [
         11,
         "Total",
         "Other/Prefer not to say",
         "Weekday",
         380
        ],
        [
         11,
         "Recreational",
         "Female",
         "Weekday",
         380
        ],
        [
         11,
         "Educational",
         "Male",
         "Weekday",
         380
        ],
        [
         11,
         "Recreational",
         "Other/Prefer not to say",
         "Weekday",
         380
        ],
        [
         11,
         "Recreational",
         "Male",
         "Weekday",
         380
        ],
        [
         11,
         "Recreational",
         "Female",
         "Weekend",
         380
        ],
        [
         11,
         "Total",
         "Male",
         "Weekday",
         380
        ],
        [
         11,
         "Total",
         "Male",
         "Weekend",
         380
        ],
        [
         11,
         "Recreational",
         "Other/Prefer not to say",
         "Weekend",
         380
        ],
        [
         11,
         "Total",
         "Other/Prefer not to say",
         "Weekend",
         380
        ],
        [
         11,
         "Total",
         "Female",
         "Weekend",
         380
        ],
        [
         10,
         "Total",
         "Other/Prefer not to say",
         "Weekend",
         400
        ],
        [
         10,
         "Recreational",
         "Male",
         "Weekend",
         400
        ],
        [
         10,
         "Recreational",
         "Other/Prefer not to say",
         "Weekday",
         400
        ],
        [
         10,
         "Total",
         "Female",
         "Weekend",
         400
        ],
        [
         10,
         "Educational",
         "Male",
         "Weekday",
         400
        ],
        [
         10,
         "Educational",
         "Other/Prefer not to say",
         "Weekend",
         400
        ],
        [
         10,
         "Total",
         "Female",
         "Weekday",
         400
        ],
        [
         10,
         "Educational",
         "Female",
         "Weekday",
         400
        ],
        [
         10,
         "Recreational",
         "Other/Prefer not to say",
         "Weekend",
         400
        ],
        [
         10,
         "Total",
         "Other/Prefer not to say",
         "Weekday",
         400
        ],
        [
         10,
         "Recreational",
         "Male",
         "Weekday",
         400
        ],
        [
         10,
         "Recreational",
         "Female",
         "Weekend",
         400
        ],
        [
         10,
         "Total",
         "Male",
         "Weekday",
         400
        ],
        [
         10,
         "Recreational",
         "Female",
         "Weekday",
         400
        ],
        [
         10,
         "Educational",
         "Female",
         "Weekend",
         400
        ],
        [
         10,
         "Educational",
         "Male",
         "Weekend",
         400
        ],
        [
         10,
         "Total",
         "Male",
         "Weekend",
         400
        ],
        [
         10,
         "Educational",
         "Other/Prefer not to say",
         "Weekday",
         400
        ],
        [
         9,
         "Recreational",
         "Male",
         "Weekday",
         420
        ],
        [
         9,
         "Total",
         "Male",
         "Weekend",
         420
        ],
        [
         9,
         "Recreational",
         "Male",
         "Weekend",
         420
        ],
        [
         9,
         "Educational",
         "Female",
         "Weekend",
         420
        ],
        [
         9,
         "Total",
         "Other/Prefer not to say",
         "Weekend",
         420
        ],
        [
         9,
         "Educational",
         "Male",
         "Weekday",
         420
        ],
        [
         9,
         "Educational",
         "Other/Prefer not to say",
         "Weekend",
         420
        ],
        [
         9,
         "Total",
         "Male",
         "Weekday",
         420
        ],
        [
         9,
         "Educational",
         "Other/Prefer not to say",
         "Weekday",
         420
        ],
        [
         9,
         "Educational",
         "Female",
         "Weekday",
         420
        ],
        [
         9,
         "Total",
         "Female",
         "Weekend",
         420
        ],
        [
         9,
         "Recreational",
         "Female",
         "Weekday",
         420
        ],
        [
         9,
         "Recreational",
         "Other/Prefer not to say",
         "Weekday",
         420
        ],
        [
         9,
         "Recreational",
         "Female",
         "Weekend",
         420
        ],
        [
         9,
         "Recreational",
         "Other/Prefer not to say",
         "Weekend",
         420
        ],
        [
         9,
         "Total",
         "Female",
         "Weekday",
         420
        ],
        [
         9,
         "Educational",
         "Male",
         "Weekend",
         420
        ],
        [
         9,
         "Total",
         "Other/Prefer not to say",
         "Weekday",
         420
        ],
        [
         8,
         "Total",
         "Other/Prefer not to say",
         "Weekday",
         440
        ],
        [
         8,
         "Total",
         "Female",
         "Weekend",
         440
        ],
        [
         8,
         "Educational",
         "Female",
         "Weekend",
         440
        ],
        [
         8,
         "Recreational",
         "Female",
         "Weekday",
         440
        ],
        [
         8,
         "Recreational",
         "Male",
         "Weekday",
         440
        ],
        [
         8,
         "Total",
         "Other/Prefer not to say",
         "Weekend",
         440
        ],
        [
         8,
         "Educational",
         "Female",
         "Weekday",
         440
        ],
        [
         8,
         "Total",
         "Male",
         "Weekday",
         440
        ],
        [
         8,
         "Educational",
         "Male",
         "Weekend",
         440
        ],
        [
         8,
         "Total",
         "Female",
         "Weekday",
         440
        ],
        [
         8,
         "Educational",
         "Other/Prefer not to say",
         "Weekday",
         440
        ],
        [
         8,
         "Educational",
         "Male",
         "Weekday",
         440
        ],
        [
         8,
         "Recreational",
         "Female",
         "Weekend",
         440
        ],
        [
         8,
         "Recreational",
         "Male",
         "Weekend",
         440
        ],
        [
         8,
         "Recreational",
         "Other/Prefer not to say",
         "Weekend",
         440
        ],
        [
         8,
         "Total",
         "Male",
         "Weekend",
         440
        ],
        [
         8,
         "Educational",
         "Other/Prefer not to say",
         "Weekend",
         440
        ],
        [
         8,
         "Recreational",
         "Other/Prefer not to say",
         "Weekday",
         440
        ],
        [
         7,
         "Total",
         "Female",
         "Weekday",
         460
        ],
        [
         7,
         "Educational",
         "Male",
         "Weekday",
         460
        ],
        [
         7,
         "Total",
         "Male",
         "Weekday",
         460
        ],
        [
         7,
         "Recreational",
         "Male",
         "Weekday",
         460
        ],
        [
         7,
         "Educational",
         "Male",
         "Weekend",
         460
        ],
        [
         7,
         "Educational",
         "Other/Prefer not to say",
         "Weekend",
         460
        ],
        [
         7,
         "Recreational",
         "Female",
         "Weekend",
         460
        ],
        [
         7,
         "Educational",
         "Female",
         "Weekday",
         460
        ],
        [
         7,
         "Total",
         "Female",
         "Weekend",
         460
        ],
        [
         7,
         "Recreational",
         "Male",
         "Weekend",
         460
        ],
        [
         7,
         "Educational",
         "Female",
         "Weekend",
         460
        ],
        [
         7,
         "Recreational",
         "Other/Prefer not to say",
         "Weekend",
         460
        ],
        [
         7,
         "Total",
         "Other/Prefer not to say",
         "Weekend",
         460
        ],
        [
         7,
         "Recreational",
         "Female",
         "Weekday",
         460
        ],
        [
         7,
         "Total",
         "Male",
         "Weekend",
         460
        ],
        [
         7,
         "Educational",
         "Other/Prefer not to say",
         "Weekday",
         460
        ],
        [
         7,
         "Recreational",
         "Other/Prefer not to say",
         "Weekday",
         460
        ],
        [
         7,
         "Total",
         "Other/Prefer not to say",
         "Weekday",
         460
        ],
        [
         6,
         "Total",
         "Female",
         "Weekend",
         480
        ],
        [
         6,
         "Total",
         "Male",
         "Weekday",
         480
        ],
        [
         6,
         "Total",
         "Male",
         "Weekend",
         480
        ],
        [
         6,
         "Educational",
         "Other/Prefer not to say",
         "Weekday",
         480
        ],
        [
         6,
         "Educational",
         "Other/Prefer not to say",
         "Weekend",
         480
        ],
        [
         6,
         "Recreational",
         "Male",
         "Weekend",
         480
        ],
        [
         6,
         "Recreational",
         "Female",
         "Weekend",
         480
        ],
        [
         6,
         "Total",
         "Female",
         "Weekday",
         480
        ],
        [
         6,
         "Educational",
         "Male",
         "Weekend",
         480
        ],
        [
         6,
         "Educational",
         "Female",
         "Weekend",
         480
        ],
        [
         6,
         "Recreational",
         "Other/Prefer not to say",
         "Weekend",
         480
        ],
        [
         6,
         "Educational",
         "Male",
         "Weekday",
         480
        ],
        [
         6,
         "Total",
         "Other/Prefer not to say",
         "Weekend",
         480
        ],
        [
         6,
         "Recreational",
         "Female",
         "Weekday",
         480
        ],
        [
         6,
         "Educational",
         "Female",
         "Weekday",
         480
        ],
        [
         6,
         "Recreational",
         "Other/Prefer not to say",
         "Weekday",
         480
        ],
        [
         6,
         "Total",
         "Other/Prefer not to say",
         "Weekday",
         480
        ],
        [
         6,
         "Recreational",
         "Male",
         "Weekday",
         480
        ],
        [
         5,
         "Educational",
         "Male",
         "Weekend",
         500
        ],
        [
         5,
         "Educational",
         "Male",
         "Weekday",
         500
        ],
        [
         5,
         "Educational",
         "Other/Prefer not to say",
         "Weekday",
         500
        ],
        [
         5,
         "Total",
         "Male",
         "Weekend",
         500
        ],
        [
         5,
         "Total",
         "Female",
         "Weekend",
         500
        ],
        [
         5,
         "Recreational",
         "Male",
         "Weekday",
         500
        ],
        [
         5,
         "Recreational",
         "Other/Prefer not to say",
         "Weekend",
         500
        ],
        [
         5,
         "Total",
         "Other/Prefer not to say",
         "Weekday",
         500
        ],
        [
         5,
         "Educational",
         "Other/Prefer not to say",
         "Weekend",
         500
        ],
        [
         5,
         "Total",
         "Male",
         "Weekday",
         500
        ],
        [
         5,
         "Total",
         "Other/Prefer not to say",
         "Weekend",
         500
        ],
        [
         5,
         "Total",
         "Female",
         "Weekday",
         500
        ],
        [
         5,
         "Educational",
         "Female",
         "Weekend",
         500
        ],
        [
         5,
         "Educational",
         "Female",
         "Weekday",
         500
        ],
        [
         5,
         "Recreational",
         "Female",
         "Weekend",
         500
        ],
        [
         5,
         "Recreational",
         "Male",
         "Weekend",
         500
        ],
        [
         5,
         "Recreational",
         "Other/Prefer not to say",
         "Weekday",
         500
        ],
        [
         5,
         "Recreational",
         "Female",
         "Weekday",
         500
        ]
       ],
       "datasetInfos": [],
       "dbfsResultPath": null,
       "isJsonSchema": true,
       "metadata": {},
       "overflow": false,
       "plotOptions": {
        "customPlotOptions": {},
        "displayType": "table",
        "pivotAggregation": null,
        "pivotColumns": null,
        "xColumns": null,
        "yColumns": null
       },
       "removedWidgets": [],
       "schema": [
        {
         "metadata": "{}",
         "name": "Age",
         "type": "\"integer\""
        },
        {
         "metadata": "{}",
         "name": "Screen_Time_Type",
         "type": "\"string\""
        },
        {
         "metadata": "{}",
         "name": "Gender",
         "type": "\"string\""
        },
        {
         "metadata": "{}",
         "name": "Day_Type",
         "type": "\"string\""
        },
        {
         "metadata": "{}",
         "name": "sum(Sample_Size)",
         "type": "\"long\""
        }
       ],
       "type": "table"
      }
     },
     "output_type": "display_data"
    }
   ],
   "source": [
    "# importando função pyspark\n",
    "from pyspark.sql.functions import desc\n",
    "\n",
    "# Mostrando a quantidade de amostras\n",
    "dfamostra = df.groupby('Age', 'Screen_Time_Type', 'Gender', 'Day_Type').agg({'Sample_Size': 'sum'})\n",
    "dfamostra = dfamostra.orderBy(desc('Age'))\n",
    "display(dfamostra)"
   ]
  },
  {
   "cell_type": "markdown",
   "metadata": {
    "application/vnd.databricks.v1+cell": {
     "cellMetadata": {
      "byteLimit": 2048000,
      "rowLimit": 10000
     },
     "inputWidgets": {},
     "nuid": "cb1c96c4-5967-47c3-9734-b37badbb68f0",
     "showTitle": false,
     "tableResultSettingsMap": {},
     "title": ""
    }
   },
   "source": [
    "A quantidade de amostras parece ser bem distribuída entre as diferentes variáveis categóricas, portanto, não sendo considerado um possível viés por predomínio de observações de apenas um tipo."
   ]
  },
  {
   "cell_type": "markdown",
   "metadata": {
    "application/vnd.databricks.v1+cell": {
     "cellMetadata": {
      "byteLimit": 2048000,
      "rowLimit": 10000
     },
     "inputWidgets": {},
     "nuid": "d08fff19-e44b-4718-a48a-c9ac3d8fe986",
     "showTitle": false,
     "tableResultSettingsMap": {},
     "title": ""
    }
   },
   "source": [
    "## 4.1 Objetivo 1: qual o tempo de exposição a telas entre diferentes faixas etárias"
   ]
  },
  {
   "cell_type": "code",
   "execution_count": 0,
   "metadata": {
    "application/vnd.databricks.v1+cell": {
     "cellMetadata": {
      "byteLimit": 2048000,
      "rowLimit": 10000
     },
     "inputWidgets": {},
     "nuid": "cf6eeb26-944c-47fc-a1fe-61cbafbf84bd",
     "showTitle": false,
     "tableResultSettingsMap": {},
     "title": ""
    }
   },
   "outputs": [
    {
     "output_type": "display_data",
     "data": {
      "text/html": [
       "<style scoped>\n",
       "  .table-result-container {\n",
       "    max-height: 300px;\n",
       "    overflow: auto;\n",
       "  }\n",
       "  table, th, td {\n",
       "    border: 1px solid black;\n",
       "    border-collapse: collapse;\n",
       "  }\n",
       "  th, td {\n",
       "    padding: 5px;\n",
       "  }\n",
       "  th {\n",
       "    text-align: left;\n",
       "  }\n",
       "</style><div class='table-result-container'><table class='table-result'><thead style='background-color: white'><tr><th>Age</th><th>avg(Average_Screen_Time_hours)</th></tr></thead><tbody><tr><td>15</td><td>7.291666666666667</td></tr><tr><td>14</td><td>6.706666628519694</td></tr><tr><td>13</td><td>6.176666657129924</td></tr><tr><td>12</td><td>5.571666717529297</td></tr><tr><td>11</td><td>5.063333352406819</td></tr><tr><td>10</td><td>4.506666660308838</td></tr><tr><td>9</td><td>3.915000081062317</td></tr><tr><td>8</td><td>3.3916666507720947</td></tr><tr><td>7</td><td>2.8166666825612388</td></tr><tr><td>6</td><td>2.2350000143051147</td></tr><tr><td>5</td><td>1.7133333285649617</td></tr></tbody></table></div>"
      ]
     },
     "metadata": {
      "application/vnd.databricks.v1+output": {
       "addedWidgets": {},
       "aggData": [],
       "aggError": "",
       "aggOverflow": false,
       "aggSchema": [],
       "aggSeriesLimitReached": false,
       "aggType": "",
       "arguments": {},
       "columnCustomDisplayInfos": {},
       "data": [
        [
         15,
         7.291666666666667
        ],
        [
         14,
         6.706666628519694
        ],
        [
         13,
         6.176666657129924
        ],
        [
         12,
         5.571666717529297
        ],
        [
         11,
         5.063333352406819
        ],
        [
         10,
         4.506666660308838
        ],
        [
         9,
         3.915000081062317
        ],
        [
         8,
         3.3916666507720947
        ],
        [
         7,
         2.8166666825612388
        ],
        [
         6,
         2.2350000143051147
        ],
        [
         5,
         1.7133333285649617
        ]
       ],
       "datasetInfos": [],
       "dbfsResultPath": null,
       "isJsonSchema": true,
       "metadata": {},
       "overflow": false,
       "plotOptions": {
        "customPlotOptions": {},
        "displayType": "table",
        "pivotAggregation": null,
        "pivotColumns": null,
        "xColumns": null,
        "yColumns": null
       },
       "removedWidgets": [],
       "schema": [
        {
         "metadata": "{}",
         "name": "Age",
         "type": "\"integer\""
        },
        {
         "metadata": "{}",
         "name": "avg(Average_Screen_Time_hours)",
         "type": "\"double\""
        }
       ],
       "type": "table"
      }
     },
     "output_type": "display_data"
    }
   ],
   "source": [
    "# Mostar a média de tempo por idade\n",
    "\n",
    "df_medias = df.where(df[\"Screen_Time_Type\"] == \"Total\").groupBy('Age').mean('Average_Screen_Time_hours')\n",
    "df_medias = df_medias.orderBy(desc(\"avg(Average_Screen_Time_hours)\"))\n",
    "display(df_medias)"
   ]
  },
  {
   "cell_type": "markdown",
   "metadata": {
    "application/vnd.databricks.v1+cell": {
     "cellMetadata": {
      "byteLimit": 2048000,
      "rowLimit": 10000
     },
     "inputWidgets": {},
     "nuid": "8d876159-54de-43e6-b7f7-d9ecce54773a",
     "showTitle": false,
     "tableResultSettingsMap": {},
     "title": ""
    }
   },
   "source": [
    "Aqui, podemos ver que o tempo médio de tela é maior quanto maior for a idade do usuário, com a maior média sendo observada para adolescentes de 15 anos.\n",
    "Uma hipótese para explicar esse fato poderia ser associada ao aumento das demandas escolares que exigem maior tempo para pesquisas online. Será feita uma  analise adicional para observar qual tempo médio para os diferentes tipos de uso por cada faixa etária."
   ]
  },
  {
   "cell_type": "code",
   "execution_count": 0,
   "metadata": {
    "application/vnd.databricks.v1+cell": {
     "cellMetadata": {
      "byteLimit": 2048000,
      "rowLimit": 10000
     },
     "inputWidgets": {},
     "nuid": "02cf2f60-fe71-4949-97d5-3193e86e9fb3",
     "showTitle": false,
     "tableResultSettingsMap": {},
     "title": ""
    }
   },
   "outputs": [
    {
     "output_type": "display_data",
     "data": {
      "text/html": [
       "<style scoped>\n",
       "  .table-result-container {\n",
       "    max-height: 300px;\n",
       "    overflow: auto;\n",
       "  }\n",
       "  table, th, td {\n",
       "    border: 1px solid black;\n",
       "    border-collapse: collapse;\n",
       "  }\n",
       "  th, td {\n",
       "    padding: 5px;\n",
       "  }\n",
       "  th {\n",
       "    text-align: left;\n",
       "  }\n",
       "</style><div class='table-result-container'><table class='table-result'><thead style='background-color: white'><tr><th>Age</th><th>Screen_Time_Type</th><th>avg(Average_Screen_Time_hours)</th></tr></thead><tbody><tr><td>15</td><td>Educational</td><td>2.0266666809717813</td></tr><tr><td>14</td><td>Educational</td><td>1.809999982515971</td></tr><tr><td>13</td><td>Educational</td><td>1.5149999856948853</td></tr><tr><td>12</td><td>Educational</td><td>1.5033333500226338</td></tr><tr><td>11</td><td>Educational</td><td>1.418333351612091</td></tr><tr><td>10</td><td>Educational</td><td>1.2550000150998433</td></tr><tr><td>9</td><td>Educational</td><td>1.0266666809717815</td></tr><tr><td>8</td><td>Educational</td><td>0.9916666746139526</td></tr><tr><td>7</td><td>Educational</td><td>0.8100000123182932</td></tr><tr><td>6</td><td>Educational</td><td>0.6583333214124044</td></tr><tr><td>5</td><td>Educational</td><td>0.4816666642824809</td></tr></tbody></table></div>"
      ]
     },
     "metadata": {
      "application/vnd.databricks.v1+output": {
       "addedWidgets": {},
       "aggData": [],
       "aggError": "",
       "aggOverflow": false,
       "aggSchema": [],
       "aggSeriesLimitReached": false,
       "aggType": "",
       "arguments": {},
       "columnCustomDisplayInfos": {},
       "data": [
        [
         15,
         "Educational",
         2.0266666809717813
        ],
        [
         14,
         "Educational",
         1.809999982515971
        ],
        [
         13,
         "Educational",
         1.5149999856948853
        ],
        [
         12,
         "Educational",
         1.5033333500226338
        ],
        [
         11,
         "Educational",
         1.418333351612091
        ],
        [
         10,
         "Educational",
         1.2550000150998433
        ],
        [
         9,
         "Educational",
         1.0266666809717815
        ],
        [
         8,
         "Educational",
         0.9916666746139526
        ],
        [
         7,
         "Educational",
         0.8100000123182932
        ],
        [
         6,
         "Educational",
         0.6583333214124044
        ],
        [
         5,
         "Educational",
         0.4816666642824809
        ]
       ],
       "datasetInfos": [],
       "dbfsResultPath": null,
       "isJsonSchema": true,
       "metadata": {},
       "overflow": false,
       "plotOptions": {
        "customPlotOptions": {},
        "displayType": "table",
        "pivotAggregation": null,
        "pivotColumns": null,
        "xColumns": null,
        "yColumns": null
       },
       "removedWidgets": [],
       "schema": [
        {
         "metadata": "{}",
         "name": "Age",
         "type": "\"integer\""
        },
        {
         "metadata": "{}",
         "name": "Screen_Time_Type",
         "type": "\"string\""
        },
        {
         "metadata": "{}",
         "name": "avg(Average_Screen_Time_hours)",
         "type": "\"double\""
        }
       ],
       "type": "table"
      }
     },
     "output_type": "display_data"
    }
   ],
   "source": [
    "# Mostar a média de tempo por idade e tipo de acesso\n",
    "\n",
    "df_medias = df.where(df[\"Screen_Time_Type\"] == \"Educational\").groupBy('Age','Screen_Time_Type').mean('Average_Screen_Time_hours')\n",
    "df_medias = df_medias.orderBy(desc(\"avg(Average_Screen_Time_hours)\"))\n",
    "display(df_medias)"
   ]
  },
  {
   "cell_type": "markdown",
   "metadata": {
    "application/vnd.databricks.v1+cell": {
     "cellMetadata": {
      "byteLimit": 2048000,
      "rowLimit": 10000
     },
     "inputWidgets": {},
     "nuid": "c927e5d4-730b-4f16-9c1e-9b60a7b77b9c",
     "showTitle": false,
     "tableResultSettingsMap": {},
     "title": ""
    }
   },
   "source": [
    "De fato, o tempo de tela para uso educacional aumenta com o aumento da idade, porém os valores observados estão consideravelmente abaixo da média de tempo total. \n",
    "Então, também é possível concluir que o uso recreativo é o principal responsável pelo aumento de tempo online. Será analisado esse dado para ver se é possível comprovar essa segunda hipótese."
   ]
  },
  {
   "cell_type": "code",
   "execution_count": 0,
   "metadata": {
    "application/vnd.databricks.v1+cell": {
     "cellMetadata": {
      "byteLimit": 2048000,
      "rowLimit": 10000
     },
     "inputWidgets": {},
     "nuid": "e6793147-bb45-4366-84fd-626f22c3dc04",
     "showTitle": false,
     "tableResultSettingsMap": {},
     "title": ""
    }
   },
   "outputs": [
    {
     "output_type": "display_data",
     "data": {
      "text/html": [
       "<style scoped>\n",
       "  .table-result-container {\n",
       "    max-height: 300px;\n",
       "    overflow: auto;\n",
       "  }\n",
       "  table, th, td {\n",
       "    border: 1px solid black;\n",
       "    border-collapse: collapse;\n",
       "  }\n",
       "  th, td {\n",
       "    padding: 5px;\n",
       "  }\n",
       "  th {\n",
       "    text-align: left;\n",
       "  }\n",
       "</style><div class='table-result-container'><table class='table-result'><thead style='background-color: white'><tr><th>Age</th><th>Screen_Time_Type</th><th>avg(Average_Screen_Time_hours)</th></tr></thead><tbody><tr><td>15</td><td>Recreational</td><td>5.264999945958455</td></tr><tr><td>14</td><td>Recreational</td><td>4.895000060399373</td></tr><tr><td>13</td><td>Recreational</td><td>4.659999926884969</td></tr><tr><td>12</td><td>Recreational</td><td>4.069999933242798</td></tr><tr><td>11</td><td>Recreational</td><td>3.6416666905085244</td></tr><tr><td>10</td><td>Recreational</td><td>3.2500000397364297</td></tr><tr><td>9</td><td>Recreational</td><td>2.886666695276896</td></tr><tr><td>8</td><td>Recreational</td><td>2.3983333110809326</td></tr><tr><td>7</td><td>Recreational</td><td>2.0083333452542624</td></tr><tr><td>6</td><td>Recreational</td><td>1.5766666531562805</td></tr><tr><td>5</td><td>Recreational</td><td>1.2333333392937977</td></tr></tbody></table></div>"
      ]
     },
     "metadata": {
      "application/vnd.databricks.v1+output": {
       "addedWidgets": {},
       "aggData": [],
       "aggError": "",
       "aggOverflow": false,
       "aggSchema": [],
       "aggSeriesLimitReached": false,
       "aggType": "",
       "arguments": {},
       "columnCustomDisplayInfos": {},
       "data": [
        [
         15,
         "Recreational",
         5.264999945958455
        ],
        [
         14,
         "Recreational",
         4.895000060399373
        ],
        [
         13,
         "Recreational",
         4.659999926884969
        ],
        [
         12,
         "Recreational",
         4.069999933242798
        ],
        [
         11,
         "Recreational",
         3.6416666905085244
        ],
        [
         10,
         "Recreational",
         3.2500000397364297
        ],
        [
         9,
         "Recreational",
         2.886666695276896
        ],
        [
         8,
         "Recreational",
         2.3983333110809326
        ],
        [
         7,
         "Recreational",
         2.0083333452542624
        ],
        [
         6,
         "Recreational",
         1.5766666531562805
        ],
        [
         5,
         "Recreational",
         1.2333333392937977
        ]
       ],
       "datasetInfos": [],
       "dbfsResultPath": null,
       "isJsonSchema": true,
       "metadata": {},
       "overflow": false,
       "plotOptions": {
        "customPlotOptions": {},
        "displayType": "table",
        "pivotAggregation": null,
        "pivotColumns": null,
        "xColumns": null,
        "yColumns": null
       },
       "removedWidgets": [],
       "schema": [
        {
         "metadata": "{}",
         "name": "Age",
         "type": "\"integer\""
        },
        {
         "metadata": "{}",
         "name": "Screen_Time_Type",
         "type": "\"string\""
        },
        {
         "metadata": "{}",
         "name": "avg(Average_Screen_Time_hours)",
         "type": "\"double\""
        }
       ],
       "type": "table"
      }
     },
     "output_type": "display_data"
    }
   ],
   "source": [
    "# Mostrar tempo de tela recreativo\n",
    "\n",
    "df_medias = df.where(df[\"Screen_Time_Type\"] == \"Recreational\").groupBy('Age','Screen_Time_Type').mean('Average_Screen_Time_hours')\n",
    "df_medias = df_medias.orderBy(desc(\"avg(Average_Screen_Time_hours)\"))\n",
    "display(df_medias)"
   ]
  },
  {
   "cell_type": "markdown",
   "metadata": {
    "application/vnd.databricks.v1+cell": {
     "cellMetadata": {
      "byteLimit": 2048000,
      "rowLimit": 10000
     },
     "inputWidgets": {},
     "nuid": "8e775a3a-80a7-40ba-9c79-82fa39a1ff0d",
     "showTitle": false,
     "tableResultSettingsMap": {},
     "title": ""
    }
   },
   "source": [
    "Pode-se concluir que de fato, o uso recreacional é superior ao educacional.\n",
    "E que o tempo online e a idade são diretamente proporcionais, ou seja, uma variação em uma medida provoca uma variação no mesmo sentido na outra."
   ]
  },
  {
   "cell_type": "markdown",
   "metadata": {
    "application/vnd.databricks.v1+cell": {
     "cellMetadata": {
      "byteLimit": 2048000,
      "rowLimit": 10000
     },
     "inputWidgets": {},
     "nuid": "e526b6ba-0fb7-43b5-8257-1c58ecdf285a",
     "showTitle": false,
     "tableResultSettingsMap": {},
     "title": ""
    }
   },
   "source": [
    "## 4.2 Objetivo 2: qual o gênero com maior tempo de exposição a tela"
   ]
  },
  {
   "cell_type": "code",
   "execution_count": 0,
   "metadata": {
    "application/vnd.databricks.v1+cell": {
     "cellMetadata": {
      "byteLimit": 2048000,
      "rowLimit": 10000
     },
     "inputWidgets": {},
     "nuid": "9bdefb0f-307d-486b-a834-471004696587",
     "showTitle": false,
     "tableResultSettingsMap": {},
     "title": ""
    }
   },
   "outputs": [
    {
     "output_type": "display_data",
     "data": {
      "text/html": [
       "<style scoped>\n",
       "  .table-result-container {\n",
       "    max-height: 300px;\n",
       "    overflow: auto;\n",
       "  }\n",
       "  table, th, td {\n",
       "    border: 1px solid black;\n",
       "    border-collapse: collapse;\n",
       "  }\n",
       "  th, td {\n",
       "    padding: 5px;\n",
       "  }\n",
       "  th {\n",
       "    text-align: left;\n",
       "  }\n",
       "</style><div class='table-result-container'><table class='table-result'><thead style='background-color: white'><tr><th>Gender</th><th>avg(Average_Screen_Time_hours)</th></tr></thead><tbody><tr><td>Male</td><td>4.605454580350355</td></tr><tr><td>Other/Prefer not to say</td><td>4.4904545545578</td></tr><tr><td>Female</td><td>4.373636348681017</td></tr></tbody></table></div>"
      ]
     },
     "metadata": {
      "application/vnd.databricks.v1+output": {
       "addedWidgets": {},
       "aggData": [],
       "aggError": "",
       "aggOverflow": false,
       "aggSchema": [],
       "aggSeriesLimitReached": false,
       "aggType": "",
       "arguments": {},
       "columnCustomDisplayInfos": {},
       "data": [
        [
         "Male",
         4.605454580350355
        ],
        [
         "Other/Prefer not to say",
         4.4904545545578
        ],
        [
         "Female",
         4.373636348681017
        ]
       ],
       "datasetInfos": [],
       "dbfsResultPath": null,
       "isJsonSchema": true,
       "metadata": {},
       "overflow": false,
       "plotOptions": {
        "customPlotOptions": {},
        "displayType": "table",
        "pivotAggregation": null,
        "pivotColumns": null,
        "xColumns": null,
        "yColumns": null
       },
       "removedWidgets": [],
       "schema": [
        {
         "metadata": "{}",
         "name": "Gender",
         "type": "\"string\""
        },
        {
         "metadata": "{}",
         "name": "avg(Average_Screen_Time_hours)",
         "type": "\"double\""
        }
       ],
       "type": "table"
      }
     },
     "output_type": "display_data"
    }
   ],
   "source": [
    "# Mostar a média de tempo por gênero\n",
    "\n",
    "df_medias = df.where(df[\"Screen_Time_Type\"] == \"Total\").groupBy('Gender').mean('Average_Screen_Time_hours')\n",
    "df_medias = df_medias.orderBy(desc(\"avg(Average_Screen_Time_hours)\"))\n",
    "display(df_medias)"
   ]
  },
  {
   "cell_type": "markdown",
   "metadata": {
    "application/vnd.databricks.v1+cell": {
     "cellMetadata": {
      "byteLimit": 2048000,
      "rowLimit": 10000
     },
     "inputWidgets": {},
     "nuid": "1754740e-cc98-495b-ae13-9d292d2c61fe",
     "showTitle": false,
     "tableResultSettingsMap": {},
     "title": ""
    }
   },
   "source": [
    "Podemos observar que o gênero masculino tem maior tempo médio de uso de telas. Vamos observar também qual o tipo de uso predominante para cada gênero."
   ]
  },
  {
   "cell_type": "code",
   "execution_count": 0,
   "metadata": {
    "application/vnd.databricks.v1+cell": {
     "cellMetadata": {
      "byteLimit": 2048000,
      "rowLimit": 10000
     },
     "inputWidgets": {},
     "nuid": "0ad90013-0235-426f-98fc-10833b48c6ae",
     "showTitle": false,
     "tableResultSettingsMap": {},
     "title": ""
    }
   },
   "outputs": [
    {
     "output_type": "display_data",
     "data": {
      "text/html": [
       "<style scoped>\n",
       "  .table-result-container {\n",
       "    max-height: 300px;\n",
       "    overflow: auto;\n",
       "  }\n",
       "  table, th, td {\n",
       "    border: 1px solid black;\n",
       "    border-collapse: collapse;\n",
       "  }\n",
       "  th, td {\n",
       "    padding: 5px;\n",
       "  }\n",
       "  th {\n",
       "    text-align: left;\n",
       "  }\n",
       "</style><div class='table-result-container'><table class='table-result'><thead style='background-color: white'><tr><th>Gender</th><th>Screen_Time_Type</th><th>avg(Average_Screen_Time_hours)</th></tr></thead><tbody><tr><td>Male</td><td>Recreational</td><td>3.377727280963551</td></tr><tr><td>Other/Prefer not to say</td><td>Recreational</td><td>3.3095454302701084</td></tr><tr><td>Female</td><td>Recreational</td><td>3.0995454544370826</td></tr><tr><td>Female</td><td>Educational</td><td>1.2731818177483298</td></tr><tr><td>Male</td><td>Educational</td><td>1.2268181849609723</td></tr><tr><td>Other/Prefer not to say</td><td>Educational</td><td>1.1809091026132756</td></tr></tbody></table></div>"
      ]
     },
     "metadata": {
      "application/vnd.databricks.v1+output": {
       "addedWidgets": {},
       "aggData": [],
       "aggError": "",
       "aggOverflow": false,
       "aggSchema": [],
       "aggSeriesLimitReached": false,
       "aggType": "",
       "arguments": {},
       "columnCustomDisplayInfos": {},
       "data": [
        [
         "Male",
         "Recreational",
         3.377727280963551
        ],
        [
         "Other/Prefer not to say",
         "Recreational",
         3.3095454302701084
        ],
        [
         "Female",
         "Recreational",
         3.0995454544370826
        ],
        [
         "Female",
         "Educational",
         1.2731818177483298
        ],
        [
         "Male",
         "Educational",
         1.2268181849609723
        ],
        [
         "Other/Prefer not to say",
         "Educational",
         1.1809091026132756
        ]
       ],
       "datasetInfos": [],
       "dbfsResultPath": null,
       "isJsonSchema": true,
       "metadata": {},
       "overflow": false,
       "plotOptions": {
        "customPlotOptions": {},
        "displayType": "table",
        "pivotAggregation": null,
        "pivotColumns": null,
        "xColumns": null,
        "yColumns": null
       },
       "removedWidgets": [],
       "schema": [
        {
         "metadata": "{}",
         "name": "Gender",
         "type": "\"string\""
        },
        {
         "metadata": "{}",
         "name": "Screen_Time_Type",
         "type": "\"string\""
        },
        {
         "metadata": "{}",
         "name": "avg(Average_Screen_Time_hours)",
         "type": "\"double\""
        }
       ],
       "type": "table"
      }
     },
     "output_type": "display_data"
    }
   ],
   "source": [
    "# Mostrar tempo de tela por gênero e tipo de acesso\n",
    "\n",
    "df_medias = df.where(df[\"Screen_Time_Type\"] != \"Total\").groupBy('Gender','Screen_Time_Type').mean('Average_Screen_Time_hours')\n",
    "df_medias = df_medias.orderBy(desc(\"avg(Average_Screen_Time_hours)\"))\n",
    "display(df_medias)"
   ]
  },
  {
   "cell_type": "markdown",
   "metadata": {
    "application/vnd.databricks.v1+cell": {
     "cellMetadata": {
      "byteLimit": 2048000,
      "rowLimit": 10000
     },
     "inputWidgets": {},
     "nuid": "ad8b3a67-552c-4ec3-bd63-e3181f4eed9b",
     "showTitle": false,
     "tableResultSettingsMap": {},
     "title": ""
    }
   },
   "source": [
    "Observamos que quando o uso de telas é para fins recreativos, os homens tendem a passar mais tempo online. Porém o as mulheres usam mais esses recursos quando tem o objetivo educacional."
   ]
  },
  {
   "cell_type": "markdown",
   "metadata": {
    "application/vnd.databricks.v1+cell": {
     "cellMetadata": {
      "byteLimit": 2048000,
      "rowLimit": 10000
     },
     "inputWidgets": {},
     "nuid": "0795eb12-c0e5-4a60-86d5-e5494b476b31",
     "showTitle": false,
     "tableResultSettingsMap": {},
     "title": ""
    }
   },
   "source": [
    "## 4.3 Objetivo 3: Tipo de acesso mais frequente entre usuários"
   ]
  },
  {
   "cell_type": "markdown",
   "metadata": {
    "application/vnd.databricks.v1+cell": {
     "cellMetadata": {
      "byteLimit": 2048000,
      "rowLimit": 10000
     },
     "inputWidgets": {},
     "nuid": "b819be8d-5ab5-4cfe-a258-3cb9631ca50d",
     "showTitle": false,
     "tableResultSettingsMap": {},
     "title": ""
    }
   },
   "source": [
    "Para essa analise, vamos considerar que como crianças pessoas que estão na faixa etária entre 5 e 10 anos e como adolescentes, pessoas que estão acima de 10 anos."
   ]
  },
  {
   "cell_type": "code",
   "execution_count": 0,
   "metadata": {
    "application/vnd.databricks.v1+cell": {
     "cellMetadata": {
      "byteLimit": 2048000,
      "implicitDf": true,
      "rowLimit": 10000
     },
     "inputWidgets": {},
     "nuid": "78424a1f-52b0-4803-ba74-c26e1fb293dc",
     "showTitle": false,
     "tableResultSettingsMap": {},
     "title": ""
    }
   },
   "outputs": [
    {
     "output_type": "display_data",
     "data": {
      "text/html": [
       "<style scoped>\n",
       "  .table-result-container {\n",
       "    max-height: 300px;\n",
       "    overflow: auto;\n",
       "  }\n",
       "  table, th, td {\n",
       "    border: 1px solid black;\n",
       "    border-collapse: collapse;\n",
       "  }\n",
       "  th, td {\n",
       "    padding: 5px;\n",
       "  }\n",
       "  th {\n",
       "    text-align: left;\n",
       "  }\n",
       "</style><div class='table-result-container'><table class='table-result'><thead style='background-color: white'><tr><th>Gender</th><th>Faixa_Etaria</th><th>Screen_time_type</th><th>Average_Screen_Time_hours</th></tr></thead><tbody><tr><td>Male</td><td>adolescente</td><td>Recreational</td><td>4.703999996185303</td></tr><tr><td>Other/Prefer not to say</td><td>adolescente</td><td>Recreational</td><td>4.584999942779541</td></tr><tr><td>Female</td><td>adolescente</td><td>Recreational</td><td>4.229999995231628</td></tr><tr><td>Male</td><td>criança</td><td>Recreational</td><td>2.2725000182787576</td></tr><tr><td>Other/Prefer not to say</td><td>criança</td><td>Recreational</td><td>2.246666669845581</td></tr><tr><td>Female</td><td>criança</td><td>Recreational</td><td>2.157500003774961</td></tr><tr><td>Female</td><td>adolescente</td><td>Educational</td><td>1.7809999942779542</td></tr><tr><td>Male</td><td>adolescente</td><td>Educational</td><td>1.6179999947547912</td></tr><tr><td>Other/Prefer not to say</td><td>adolescente</td><td>Educational</td><td>1.565000021457672</td></tr><tr><td>Male</td><td>criança</td><td>Educational</td><td>0.900833343466123</td></tr><tr><td>Other/Prefer not to say</td><td>criança</td><td>Educational</td><td>0.8608333369096121</td></tr><tr><td>Female</td><td>criança</td><td>Educational</td><td>0.850000003973643</td></tr></tbody></table></div>"
      ]
     },
     "metadata": {
      "application/vnd.databricks.v1+output": {
       "addedWidgets": {},
       "aggData": [],
       "aggError": "",
       "aggOverflow": false,
       "aggSchema": [],
       "aggSeriesLimitReached": false,
       "aggType": "",
       "arguments": {},
       "columnCustomDisplayInfos": {},
       "data": [
        [
         "Male",
         "adolescente",
         "Recreational",
         4.703999996185303
        ],
        [
         "Other/Prefer not to say",
         "adolescente",
         "Recreational",
         4.584999942779541
        ],
        [
         "Female",
         "adolescente",
         "Recreational",
         4.229999995231628
        ],
        [
         "Male",
         "criança",
         "Recreational",
         2.2725000182787576
        ],
        [
         "Other/Prefer not to say",
         "criança",
         "Recreational",
         2.246666669845581
        ],
        [
         "Female",
         "criança",
         "Recreational",
         2.157500003774961
        ],
        [
         "Female",
         "adolescente",
         "Educational",
         1.7809999942779542
        ],
        [
         "Male",
         "adolescente",
         "Educational",
         1.6179999947547912
        ],
        [
         "Other/Prefer not to say",
         "adolescente",
         "Educational",
         1.565000021457672
        ],
        [
         "Male",
         "criança",
         "Educational",
         0.900833343466123
        ],
        [
         "Other/Prefer not to say",
         "criança",
         "Educational",
         0.8608333369096121
        ],
        [
         "Female",
         "criança",
         "Educational",
         0.850000003973643
        ]
       ],
       "datasetInfos": [],
       "dbfsResultPath": null,
       "isJsonSchema": true,
       "metadata": {},
       "overflow": false,
       "plotOptions": {
        "customPlotOptions": {},
        "displayType": "table",
        "pivotAggregation": null,
        "pivotColumns": null,
        "xColumns": null,
        "yColumns": null
       },
       "removedWidgets": [],
       "schema": [
        {
         "metadata": "{}",
         "name": "Gender",
         "type": "\"string\""
        },
        {
         "metadata": "{}",
         "name": "Faixa_Etaria",
         "type": "\"string\""
        },
        {
         "metadata": "{}",
         "name": "Screen_time_type",
         "type": "\"string\""
        },
        {
         "metadata": "{}",
         "name": "Average_Screen_Time_hours",
         "type": "\"double\""
        }
       ],
       "type": "table"
      }
     },
     "output_type": "display_data"
    }
   ],
   "source": [
    "# Importar funções do pyspark\n",
    "from pyspark.sql import functions as F\n",
    "\n",
    "# Criando a coluna \"Faixa_Etaria\" baseada na coluna \"Age\"\n",
    "df_usuarios = df.withColumn(\n",
    "    \"Faixa_Etaria\", \n",
    "    F.when((df[\"Age\"] >= 5) & (df[\"Age\"] <= 10), \"criança\")\n",
    "     .when((df[\"Age\"] > 10) & (df[\"Age\"] <= 15), \"adolescente\")\n",
    ")\n",
    "\n",
    "# Agrupar por genero, faixa etária, tipo de acesso e mostrar a média de tempo de tela\n",
    "result = df_usuarios.where(df[\"Screen_Time_Type\"] != \"Total\").groupBy(\"Gender\", \"Faixa_Etaria\", \"Screen_time_type\") \\\n",
    "    .agg(F.avg(\"Average_Screen_Time_hours\").alias(\"Average_Screen_Time_hours\"))\n",
    "\n",
    "# Mostrar o resultado\n",
    "result = result.orderBy(F.desc(\"Average_Screen_Time_hours\"))\n",
    "display(result)"
   ]
  },
  {
   "cell_type": "markdown",
   "metadata": {
    "application/vnd.databricks.v1+cell": {
     "cellMetadata": {},
     "inputWidgets": {},
     "nuid": "2e1cbf76-5f24-4ea1-b3c5-fdf1d8c3e933",
     "showTitle": false,
     "tableResultSettingsMap": {},
     "title": ""
    }
   },
   "source": [
    "Aqui podemos observar que, para o uso recreativo, todos os usuários adolescentes tem mais tempo de tela que os usuários crianças. Também pode-se notar que para o uso recreativo, tanto crianças quanto adolescentes homens ficam mais online que as mulheres.\n",
    "Porém, para o uso educacional, as adolescentes mulheres usam mais as telas que os homens, quanto que na fase da infância é observado o contrário."
   ]
  },
  {
   "cell_type": "markdown",
   "metadata": {
    "application/vnd.databricks.v1+cell": {
     "cellMetadata": {},
     "inputWidgets": {},
     "nuid": "f1cb9a7f-0fc9-415d-aeab-bc7fb1dadda3",
     "showTitle": false,
     "tableResultSettingsMap": {},
     "title": ""
    }
   },
   "source": [
    "# 5. Criando tabela a partir de dataframe"
   ]
  },
  {
   "cell_type": "markdown",
   "metadata": {
    "application/vnd.databricks.v1+cell": {
     "cellMetadata": {},
     "inputWidgets": {},
     "nuid": "00d59b8f-2310-4483-8a41-d7d48b8d47a6",
     "showTitle": false,
     "tableResultSettingsMap": {},
     "title": ""
    }
   },
   "source": [
    "O dataframe usado para as analises até agora será salvo como tabela para que seja possível conectar ao power bi e mostrar as analises de forma visual em um dashboard."
   ]
  },
  {
   "cell_type": "code",
   "execution_count": 0,
   "metadata": {
    "application/vnd.databricks.v1+cell": {
     "cellMetadata": {
      "byteLimit": 2048000,
      "rowLimit": 10000
     },
     "inputWidgets": {},
     "nuid": "1316e7c0-790d-4fa9-8d75-75e8cc4239d7",
     "showTitle": false,
     "tableResultSettingsMap": {},
     "title": ""
    }
   },
   "outputs": [],
   "source": [
    "# Salvar o DataFrame como uma tabela permanente\n",
    "df.write.saveAsTable(\"sreen_time_tratado\")"
   ]
  },
  {
   "cell_type": "code",
   "execution_count": 0,
   "metadata": {
    "application/vnd.databricks.v1+cell": {
     "cellMetadata": {
      "byteLimit": 2048000,
      "implicitDf": true,
      "rowLimit": 10000
     },
     "inputWidgets": {},
     "nuid": "561ebf3f-cc34-4a82-9fea-1a27faa8bb3d",
     "showTitle": false,
     "tableResultSettingsMap": {},
     "title": ""
    }
   },
   "outputs": [
    {
     "output_type": "display_data",
     "data": {
      "text/html": [
       "<style scoped>\n",
       "  .table-result-container {\n",
       "    max-height: 300px;\n",
       "    overflow: auto;\n",
       "  }\n",
       "  table, th, td {\n",
       "    border: 1px solid black;\n",
       "    border-collapse: collapse;\n",
       "  }\n",
       "  th, td {\n",
       "    padding: 5px;\n",
       "  }\n",
       "  th {\n",
       "    text-align: left;\n",
       "  }\n",
       "</style><div class='table-result-container'><table class='table-result'><thead style='background-color: white'><tr><th>Age</th><th>Gender</th><th>Screen_Time_Type</th><th>Day_Type</th><th>Average_Screen_Time_hours</th><th>Sample_Size</th></tr></thead><tbody><tr><td>5</td><td>Male</td><td>Educational</td><td>Weekday</td><td>0.44</td><td>500</td></tr><tr><td>5</td><td>Male</td><td>Recreational</td><td>Weekday</td><td>1.11</td><td>500</td></tr><tr><td>5</td><td>Male</td><td>Total</td><td>Weekday</td><td>1.55</td><td>500</td></tr><tr><td>5</td><td>Male</td><td>Educational</td><td>Weekend</td><td>0.5</td><td>500</td></tr><tr><td>5</td><td>Male</td><td>Recreational</td><td>Weekend</td><td>1.44</td><td>500</td></tr></tbody></table></div>"
      ]
     },
     "metadata": {
      "application/vnd.databricks.v1+output": {
       "addedWidgets": {},
       "aggData": [],
       "aggError": "",
       "aggOverflow": false,
       "aggSchema": [],
       "aggSeriesLimitReached": false,
       "aggType": "",
       "arguments": {},
       "columnCustomDisplayInfos": {},
       "data": [
        [
         5,
         "Male",
         "Educational",
         "Weekday",
         0.44,
         500
        ],
        [
         5,
         "Male",
         "Recreational",
         "Weekday",
         1.11,
         500
        ],
        [
         5,
         "Male",
         "Total",
         "Weekday",
         1.55,
         500
        ],
        [
         5,
         "Male",
         "Educational",
         "Weekend",
         0.5,
         500
        ],
        [
         5,
         "Male",
         "Recreational",
         "Weekend",
         1.44,
         500
        ]
       ],
       "datasetInfos": [],
       "dbfsResultPath": null,
       "isJsonSchema": true,
       "metadata": {
        "createTempViewForImplicitDf": true,
        "dataframeName": "_sqldf",
        "executionCount": 27
       },
       "overflow": false,
       "plotOptions": {
        "customPlotOptions": {},
        "displayType": "table",
        "pivotAggregation": null,
        "pivotColumns": null,
        "xColumns": null,
        "yColumns": null
       },
       "removedWidgets": [],
       "schema": [
        {
         "metadata": "{}",
         "name": "Age",
         "type": "\"integer\""
        },
        {
         "metadata": "{}",
         "name": "Gender",
         "type": "\"string\""
        },
        {
         "metadata": "{}",
         "name": "Screen_Time_Type",
         "type": "\"string\""
        },
        {
         "metadata": "{}",
         "name": "Day_Type",
         "type": "\"string\""
        },
        {
         "metadata": "{}",
         "name": "Average_Screen_Time_hours",
         "type": "\"float\""
        },
        {
         "metadata": "{}",
         "name": "Sample_Size",
         "type": "\"integer\""
        }
       ],
       "type": "table"
      }
     },
     "output_type": "display_data"
    }
   ],
   "source": [
    "%sql\n",
    "-- Mostrar tabela criada\n",
    "select * from sreen_time_tratado limit 5\n"
   ]
  },
  {
   "cell_type": "markdown",
   "metadata": {
    "application/vnd.databricks.v1+cell": {
     "cellMetadata": {},
     "inputWidgets": {},
     "nuid": "7ad24b5d-a7cd-4f71-86b8-a7772ad3ff29",
     "showTitle": false,
     "tableResultSettingsMap": {},
     "title": ""
    }
   },
   "source": [
    "# 6. Visuzalização no Power Bi"
   ]
  },
  {
   "cell_type": "markdown",
   "metadata": {
    "application/vnd.databricks.v1+cell": {
     "cellMetadata": {},
     "inputWidgets": {},
     "nuid": "56d59f15-465f-436b-87f5-c2e7b8535580",
     "showTitle": false,
     "tableResultSettingsMap": {},
     "title": ""
    }
   },
   "source": [
    "A tabela criada foi importada para o Power Bi desktop:\n",
    "![conectar_powerbi_databricks.png](./conectar_powerbi_databricks.png \"conectar_powerbi_databricks.png\")\n",
    "Após ser importada, foram criados os seguintes visuais:![visuais_power_bi_.png](./visuais_power_bi_.png \"visuais_power_bi_.png\")\n",
    "Cartões na parte superior indicando a média de tempo para uso receativo, educacional e total;\n",
    "Gráfico de árvore para visualização de informações de tipo de acesso por usuário (quebra de média de tempo total de telas por tipo de acesso, gênero e faixa etária);\n",
    "Gráfico de barras clusterizadas e colunas, com tempo de tela por idade e tipos de acesso;\n",
    "Gráfico de pizza com tempo de tela por gênero;\n",
    "Filtros para segmentação de dados.\n",
    "\n",
    "Para que fosse possível criar as visualizações, foi criada uma nova coluna na tabela importada usando a liguagem Dax, para agrupar as idades por faixa etária.\n",
    "![coluna_calculada.png](./coluna_calculada.png \"coluna_calculada.png\")\n",
    "\n",
    "E também foram criadas três medidas para mostrar as informações de tempo de tela por cada tipo de acesso: ![medida_dax.png](./medida_dax.png \"medida_dax.png\")"
   ]
  },
  {
   "cell_type": "markdown",
   "metadata": {
    "application/vnd.databricks.v1+cell": {
     "cellMetadata": {},
     "inputWidgets": {},
     "nuid": "731bbe1d-df4b-49bc-a938-2ea82cfecf5b",
     "showTitle": false,
     "tableResultSettingsMap": {},
     "title": ""
    }
   },
   "source": [
    "# 7. Conclusão\n",
    "O desenvolvimento do projeto MVP para a disciplina de Engenharia de dados permitiu o aprendizado prático dos conceitos de ETL e tratamento de dados. Além de possibilitar o conhecimento sobre o funcionamento de ferramentas como a Azure, Databricks e Power Bi, e como elas se interagem.\n",
    "\n",
    "Além disso, foi possível atingir os objetivos do projeto, com a observação da distribuição de tempo de tela entre crianças e jovens para diferentes fins.\n",
    "Pode-se concluir que o tempo gasto online aumenta com a idade e o principal fator responsável por esse aumento é o uso recreativo. Além disso, quando são considerados fins recreativos, homens adolescentes passam mais tempo em frente a telas que mulheres na mesma faixa etária.\n",
    "Com isso, é possível debater quais as melhores condutas para que crianças e adolescentes consigam usufruir das tecnologias existentes, mas garantindo o acesso a conteúdos de qualidade."
   ]
  }
 ],
 "metadata": {
  "application/vnd.databricks.v1+notebook": {
   "computePreferences": null,
   "dashboards": [],
   "environmentMetadata": {
    "base_environment": "",
    "environment_version": "2"
   },
   "inputWidgetPreferences": null,
   "language": "python",
   "notebookMetadata": {
    "mostRecentlyExecutedCommandWithImplicitDF": {
     "commandId": 5134692263784590,
     "dataframes": [
      "_sqldf"
     ]
    },
    "pythonIndentUnit": 4
   },
   "notebookName": "MVP",
   "widgets": {}
  },
  "language_info": {
   "name": "python"
  }
 },
 "nbformat": 4,
 "nbformat_minor": 0
}